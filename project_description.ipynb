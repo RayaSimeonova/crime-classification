{
 "cells": [
  {
   "cell_type": "markdown",
   "id": "c86227da",
   "metadata": {},
   "source": [
    "### Екип\n",
    "Рая Симеонова - 62557  \n",
    "Надя Катевска - 250 "
   ]
  },
  {
   "cell_type": "markdown",
   "id": "e6334cfb",
   "metadata": {},
   "source": [
    "### Проект\n",
    "   \n",
    "Тип на проекта: А  \n",
    "Название на проекта: San Francisco Crime Classification"
   ]
  },
  {
   "cell_type": "markdown",
   "id": "1f06db3e",
   "metadata": {},
   "source": [
    "#### Описание на данните (EDA)"
   ]
  },
  {
   "cell_type": "markdown",
   "id": "293b1b83",
   "metadata": {},
   "source": [
    "В dataset-а се срещат следните характеристики на данните:"
   ]
  },
  {
   "cell_type": "markdown",
   "id": "80ea12f0",
   "metadata": {},
   "source": [
    "- Dates - дата и час на престъплението\n",
    "- Category - категория на престъплението (само в train.csv). Таргет променливата, която трябва да се предвиди.\n",
    "- Descript - подробно описание на престъплението (само в train.csv)\n",
    "- DayOfWeek - денят в седмицата\n",
    "- PdDistrict - името на районното полицейско управление\n",
    "- Resolution - как престъплението е разрешено (само в train.csv)\n",
    "- Address - приблизителния адрес на престъплението \n",
    "- X - географска дължина\n",
    "- Y - географска щирина"
   ]
  },
  {
   "cell_type": "code",
   "execution_count": 1,
   "id": "93137f6f",
   "metadata": {},
   "outputs": [],
   "source": [
    "import pandas as pd\n",
    "import matplotlib.pyplot as plt\n",
    "import seaborn as sns\n",
    "import math\n",
    "import numpy as np\n",
    "import holidays\n",
    "\n",
    "# Load the dataset\n",
    "data = pd.read_csv('sf-crime/train.csv')\n",
    "test_data = pd.read_csv('sf-crime/test.csv')"
   ]
  },
  {
   "cell_type": "code",
   "execution_count": 3,
   "id": "c290576b",
   "metadata": {},
   "outputs": [
    {
     "name": "stdout",
     "output_type": "stream",
     "text": [
      "<class 'pandas.core.frame.DataFrame'>\n",
      "RangeIndex: 878049 entries, 0 to 878048\n",
      "Data columns (total 9 columns):\n",
      " #   Column      Non-Null Count   Dtype  \n",
      "---  ------      --------------   -----  \n",
      " 0   Dates       878049 non-null  object \n",
      " 1   Category    878049 non-null  object \n",
      " 2   Descript    878049 non-null  object \n",
      " 3   DayOfWeek   878049 non-null  object \n",
      " 4   PdDistrict  878049 non-null  object \n",
      " 5   Resolution  878049 non-null  object \n",
      " 6   Address     878049 non-null  object \n",
      " 7   X           878049 non-null  float64\n",
      " 8   Y           878049 non-null  float64\n",
      "dtypes: float64(2), object(7)\n",
      "memory usage: 60.3+ MB\n"
     ]
    }
   ],
   "source": [
    "data.info()"
   ]
  },
  {
   "cell_type": "code",
   "execution_count": 4,
   "id": "1dfc632a",
   "metadata": {},
   "outputs": [
    {
     "name": "stdout",
     "output_type": "stream",
     "text": [
      "<class 'pandas.core.frame.DataFrame'>\n",
      "RangeIndex: 884262 entries, 0 to 884261\n",
      "Data columns (total 7 columns):\n",
      " #   Column      Non-Null Count   Dtype  \n",
      "---  ------      --------------   -----  \n",
      " 0   Id          884262 non-null  int64  \n",
      " 1   Dates       884262 non-null  object \n",
      " 2   DayOfWeek   884262 non-null  object \n",
      " 3   PdDistrict  884262 non-null  object \n",
      " 4   Address     884262 non-null  object \n",
      " 5   X           884262 non-null  float64\n",
      " 6   Y           884262 non-null  float64\n",
      "dtypes: float64(2), int64(1), object(4)\n",
      "memory usage: 47.2+ MB\n"
     ]
    }
   ],
   "source": [
    "test_data.info()"
   ]
  },
  {
   "cell_type": "markdown",
   "id": "112a90d3",
   "metadata": {},
   "source": [
    "Train set-а съдържа 9 характеристики, 3 от които (Category, Descript, Resolution) не са включени в test set-a, предоставен от Kaggle.  \n",
    "Липсата на Descript и Resolution показва, че не се взимат под внимание при определянето на категория, а по-скоро са доуточняващи, затова могат да се премахнат при обработката на данните.  \n",
    "Липсата на Category характеристика в test set-а показва, че няма да може да се използва, за тестване на модела преди предаването на резултатите от него в Kaggle, затова може да затворим този data frame и ще работим само с train set-a."
   ]
  },
  {
   "cell_type": "code",
   "execution_count": 2,
   "id": "0b42cd3e",
   "metadata": {},
   "outputs": [],
   "source": [
    "del test_data"
   ]
  },
  {
   "cell_type": "code",
   "execution_count": 6,
   "id": "66116ac6",
   "metadata": {},
   "outputs": [
    {
     "data": {
      "text/plain": [
       "Dates         0\n",
       "Category      0\n",
       "Descript      0\n",
       "DayOfWeek     0\n",
       "PdDistrict    0\n",
       "Resolution    0\n",
       "Address       0\n",
       "X             0\n",
       "Y             0\n",
       "dtype: int64"
      ]
     },
     "execution_count": 6,
     "metadata": {},
     "output_type": "execute_result"
    }
   ],
   "source": [
    "data.isnull().sum()"
   ]
  },
  {
   "cell_type": "markdown",
   "id": "e7112551",
   "metadata": {},
   "source": [
    "Вижда се, че няма липсващи стойности за никоя от характеристиките."
   ]
  },
  {
   "cell_type": "markdown",
   "id": "13e4172c",
   "metadata": {},
   "source": [
    "Данните изглеждат по-този начин."
   ]
  },
  {
   "cell_type": "code",
   "execution_count": 7,
   "id": "174e67d0",
   "metadata": {
    "scrolled": true
   },
   "outputs": [
    {
     "data": {
      "text/html": [
       "<div>\n",
       "<style scoped>\n",
       "    .dataframe tbody tr th:only-of-type {\n",
       "        vertical-align: middle;\n",
       "    }\n",
       "\n",
       "    .dataframe tbody tr th {\n",
       "        vertical-align: top;\n",
       "    }\n",
       "\n",
       "    .dataframe thead th {\n",
       "        text-align: right;\n",
       "    }\n",
       "</style>\n",
       "<table border=\"1\" class=\"dataframe\">\n",
       "  <thead>\n",
       "    <tr style=\"text-align: right;\">\n",
       "      <th></th>\n",
       "      <th>Dates</th>\n",
       "      <th>Category</th>\n",
       "      <th>Descript</th>\n",
       "      <th>DayOfWeek</th>\n",
       "      <th>PdDistrict</th>\n",
       "      <th>Resolution</th>\n",
       "      <th>Address</th>\n",
       "      <th>X</th>\n",
       "      <th>Y</th>\n",
       "    </tr>\n",
       "  </thead>\n",
       "  <tbody>\n",
       "    <tr>\n",
       "      <th>0</th>\n",
       "      <td>2015-05-13 23:53:00</td>\n",
       "      <td>WARRANTS</td>\n",
       "      <td>WARRANT ARREST</td>\n",
       "      <td>Wednesday</td>\n",
       "      <td>NORTHERN</td>\n",
       "      <td>ARREST, BOOKED</td>\n",
       "      <td>OAK ST / LAGUNA ST</td>\n",
       "      <td>-122.425892</td>\n",
       "      <td>37.774599</td>\n",
       "    </tr>\n",
       "    <tr>\n",
       "      <th>1</th>\n",
       "      <td>2015-05-13 23:53:00</td>\n",
       "      <td>OTHER OFFENSES</td>\n",
       "      <td>TRAFFIC VIOLATION ARREST</td>\n",
       "      <td>Wednesday</td>\n",
       "      <td>NORTHERN</td>\n",
       "      <td>ARREST, BOOKED</td>\n",
       "      <td>OAK ST / LAGUNA ST</td>\n",
       "      <td>-122.425892</td>\n",
       "      <td>37.774599</td>\n",
       "    </tr>\n",
       "    <tr>\n",
       "      <th>2</th>\n",
       "      <td>2015-05-13 23:33:00</td>\n",
       "      <td>OTHER OFFENSES</td>\n",
       "      <td>TRAFFIC VIOLATION ARREST</td>\n",
       "      <td>Wednesday</td>\n",
       "      <td>NORTHERN</td>\n",
       "      <td>ARREST, BOOKED</td>\n",
       "      <td>VANNESS AV / GREENWICH ST</td>\n",
       "      <td>-122.424363</td>\n",
       "      <td>37.800414</td>\n",
       "    </tr>\n",
       "  </tbody>\n",
       "</table>\n",
       "</div>"
      ],
      "text/plain": [
       "                 Dates        Category                  Descript  DayOfWeek  \\\n",
       "0  2015-05-13 23:53:00        WARRANTS            WARRANT ARREST  Wednesday   \n",
       "1  2015-05-13 23:53:00  OTHER OFFENSES  TRAFFIC VIOLATION ARREST  Wednesday   \n",
       "2  2015-05-13 23:33:00  OTHER OFFENSES  TRAFFIC VIOLATION ARREST  Wednesday   \n",
       "\n",
       "  PdDistrict      Resolution                    Address           X          Y  \n",
       "0   NORTHERN  ARREST, BOOKED         OAK ST / LAGUNA ST -122.425892  37.774599  \n",
       "1   NORTHERN  ARREST, BOOKED         OAK ST / LAGUNA ST -122.425892  37.774599  \n",
       "2   NORTHERN  ARREST, BOOKED  VANNESS AV / GREENWICH ST -122.424363  37.800414  "
      ]
     },
     "execution_count": 7,
     "metadata": {},
     "output_type": "execute_result"
    }
   ],
   "source": [
    "data.head(3)"
   ]
  },
  {
   "cell_type": "markdown",
   "id": "21051903",
   "metadata": {},
   "source": [
    "Dates колоната може да се парсне и да се извлекат данните за година, месец, ден, час поотделно, така може да се види дали има някаква зависимост между отделните компоненти и категорията на престъплението"
   ]
  },
  {
   "cell_type": "code",
   "execution_count": 3,
   "id": "71e6d578",
   "metadata": {},
   "outputs": [],
   "source": [
    "data['Dates'] = pd.to_datetime(data['Dates'], format='%Y-%m-%d %H:%M:%S')\n",
    "data['Year'] = data['Dates'].dt.year\n",
    "data['Month'] = data['Dates'].dt.month\n",
    "data['Day'] = data['Dates'].dt.day\n",
    "data['Hour'] = data['Dates'].dt.hour\n",
    "data['Minute'] = data['Dates'].dt.minute"
   ]
  },
  {
   "cell_type": "code",
   "execution_count": 9,
   "id": "26053dea",
   "metadata": {},
   "outputs": [
    {
     "data": {
      "text/html": [
       "<div>\n",
       "<style scoped>\n",
       "    .dataframe tbody tr th:only-of-type {\n",
       "        vertical-align: middle;\n",
       "    }\n",
       "\n",
       "    .dataframe tbody tr th {\n",
       "        vertical-align: top;\n",
       "    }\n",
       "\n",
       "    .dataframe thead th {\n",
       "        text-align: right;\n",
       "    }\n",
       "</style>\n",
       "<table border=\"1\" class=\"dataframe\">\n",
       "  <thead>\n",
       "    <tr style=\"text-align: right;\">\n",
       "      <th></th>\n",
       "      <th>Dates</th>\n",
       "      <th>Category</th>\n",
       "      <th>Descript</th>\n",
       "      <th>DayOfWeek</th>\n",
       "      <th>PdDistrict</th>\n",
       "      <th>Resolution</th>\n",
       "      <th>Address</th>\n",
       "      <th>X</th>\n",
       "      <th>Y</th>\n",
       "      <th>Year</th>\n",
       "      <th>Month</th>\n",
       "      <th>Day</th>\n",
       "      <th>Hour</th>\n",
       "      <th>Minute</th>\n",
       "    </tr>\n",
       "  </thead>\n",
       "  <tbody>\n",
       "    <tr>\n",
       "      <th>0</th>\n",
       "      <td>2015-05-13 23:53:00</td>\n",
       "      <td>WARRANTS</td>\n",
       "      <td>WARRANT ARREST</td>\n",
       "      <td>Wednesday</td>\n",
       "      <td>NORTHERN</td>\n",
       "      <td>ARREST, BOOKED</td>\n",
       "      <td>OAK ST / LAGUNA ST</td>\n",
       "      <td>-122.425892</td>\n",
       "      <td>37.774599</td>\n",
       "      <td>2015</td>\n",
       "      <td>5</td>\n",
       "      <td>13</td>\n",
       "      <td>23</td>\n",
       "      <td>53</td>\n",
       "    </tr>\n",
       "    <tr>\n",
       "      <th>1</th>\n",
       "      <td>2015-05-13 23:53:00</td>\n",
       "      <td>OTHER OFFENSES</td>\n",
       "      <td>TRAFFIC VIOLATION ARREST</td>\n",
       "      <td>Wednesday</td>\n",
       "      <td>NORTHERN</td>\n",
       "      <td>ARREST, BOOKED</td>\n",
       "      <td>OAK ST / LAGUNA ST</td>\n",
       "      <td>-122.425892</td>\n",
       "      <td>37.774599</td>\n",
       "      <td>2015</td>\n",
       "      <td>5</td>\n",
       "      <td>13</td>\n",
       "      <td>23</td>\n",
       "      <td>53</td>\n",
       "    </tr>\n",
       "    <tr>\n",
       "      <th>2</th>\n",
       "      <td>2015-05-13 23:33:00</td>\n",
       "      <td>OTHER OFFENSES</td>\n",
       "      <td>TRAFFIC VIOLATION ARREST</td>\n",
       "      <td>Wednesday</td>\n",
       "      <td>NORTHERN</td>\n",
       "      <td>ARREST, BOOKED</td>\n",
       "      <td>VANNESS AV / GREENWICH ST</td>\n",
       "      <td>-122.424363</td>\n",
       "      <td>37.800414</td>\n",
       "      <td>2015</td>\n",
       "      <td>5</td>\n",
       "      <td>13</td>\n",
       "      <td>23</td>\n",
       "      <td>33</td>\n",
       "    </tr>\n",
       "    <tr>\n",
       "      <th>3</th>\n",
       "      <td>2015-05-13 23:30:00</td>\n",
       "      <td>LARCENY/THEFT</td>\n",
       "      <td>GRAND THEFT FROM LOCKED AUTO</td>\n",
       "      <td>Wednesday</td>\n",
       "      <td>NORTHERN</td>\n",
       "      <td>NONE</td>\n",
       "      <td>1500 Block of LOMBARD ST</td>\n",
       "      <td>-122.426995</td>\n",
       "      <td>37.800873</td>\n",
       "      <td>2015</td>\n",
       "      <td>5</td>\n",
       "      <td>13</td>\n",
       "      <td>23</td>\n",
       "      <td>30</td>\n",
       "    </tr>\n",
       "    <tr>\n",
       "      <th>4</th>\n",
       "      <td>2015-05-13 23:30:00</td>\n",
       "      <td>LARCENY/THEFT</td>\n",
       "      <td>GRAND THEFT FROM LOCKED AUTO</td>\n",
       "      <td>Wednesday</td>\n",
       "      <td>PARK</td>\n",
       "      <td>NONE</td>\n",
       "      <td>100 Block of BRODERICK ST</td>\n",
       "      <td>-122.438738</td>\n",
       "      <td>37.771541</td>\n",
       "      <td>2015</td>\n",
       "      <td>5</td>\n",
       "      <td>13</td>\n",
       "      <td>23</td>\n",
       "      <td>30</td>\n",
       "    </tr>\n",
       "  </tbody>\n",
       "</table>\n",
       "</div>"
      ],
      "text/plain": [
       "                Dates        Category                      Descript  \\\n",
       "0 2015-05-13 23:53:00        WARRANTS                WARRANT ARREST   \n",
       "1 2015-05-13 23:53:00  OTHER OFFENSES      TRAFFIC VIOLATION ARREST   \n",
       "2 2015-05-13 23:33:00  OTHER OFFENSES      TRAFFIC VIOLATION ARREST   \n",
       "3 2015-05-13 23:30:00   LARCENY/THEFT  GRAND THEFT FROM LOCKED AUTO   \n",
       "4 2015-05-13 23:30:00   LARCENY/THEFT  GRAND THEFT FROM LOCKED AUTO   \n",
       "\n",
       "   DayOfWeek PdDistrict      Resolution                    Address  \\\n",
       "0  Wednesday   NORTHERN  ARREST, BOOKED         OAK ST / LAGUNA ST   \n",
       "1  Wednesday   NORTHERN  ARREST, BOOKED         OAK ST / LAGUNA ST   \n",
       "2  Wednesday   NORTHERN  ARREST, BOOKED  VANNESS AV / GREENWICH ST   \n",
       "3  Wednesday   NORTHERN            NONE   1500 Block of LOMBARD ST   \n",
       "4  Wednesday       PARK            NONE  100 Block of BRODERICK ST   \n",
       "\n",
       "            X          Y  Year  Month  Day  Hour  Minute  \n",
       "0 -122.425892  37.774599  2015      5   13    23      53  \n",
       "1 -122.425892  37.774599  2015      5   13    23      53  \n",
       "2 -122.424363  37.800414  2015      5   13    23      33  \n",
       "3 -122.426995  37.800873  2015      5   13    23      30  \n",
       "4 -122.438738  37.771541  2015      5   13    23      30  "
      ]
     },
     "execution_count": 9,
     "metadata": {},
     "output_type": "execute_result"
    }
   ],
   "source": [
    "data.head(5)"
   ]
  },
  {
   "cell_type": "markdown",
   "id": "c23b5639",
   "metadata": {},
   "source": [
    "Нека дефинираме помощни функции, които да използваме за plot-ването на разпределенията на различните характеристики."
   ]
  },
  {
   "cell_type": "code",
   "execution_count": 10,
   "id": "04bfc6b3",
   "metadata": {},
   "outputs": [],
   "source": [
    "def plot_bar(label, fig_num, isChronological=False):\n",
    "    plt.figure(figsize=(15, 8))\n",
    "\n",
    "    if isChronological:\n",
    "        data[label].value_counts().sort_index().plot(kind='bar', color='darkslategray')\n",
    "    else:\n",
    "        data[label].value_counts().plot(kind='bar', color='darkslategray')\n",
    "\n",
    "    plt.title(f'Fig. {fig_num} Distribution of Crimes per {label}')\n",
    "    plt.xlabel(label)\n",
    "    plt.ylabel('Number of Crimes')\n",
    "    plt.show()"
   ]
  },
  {
   "cell_type": "code",
   "execution_count": 11,
   "id": "da6d9c73",
   "metadata": {},
   "outputs": [],
   "source": [
    "def plot_line(label, fig_num, categories_count=5):\n",
    "    # Group by label and find the count for each category\n",
    "    category_counts_per_label = data.groupby([label, 'Category']).size().reset_index(name='Count')\n",
    "\n",
    "    # Get the top 5 categories overall\n",
    "    top_categories = category_counts_per_label.groupby('Category')['Count'].sum().nlargest(categories_count).index\n",
    "    # top_categories = category_counts_per_label['Category'].sample(n=5, replace=False, random_state=20)\n",
    "    # Create a single figure for the hour line graph\n",
    "    plt.figure(figsize=(12, 8))\n",
    "\n",
    "    # Plot lines for each top category with different colors\n",
    "    for i, category in enumerate(top_categories):\n",
    "        subset = category_counts_per_label[category_counts_per_label['Category'] == category]\n",
    "        plt.plot(subset[label], subset['Count'], marker='o', label=category)\n",
    "\n",
    "    # Set plot properties for the hour line graph\n",
    "    plt.title(f'Fig. {fig_num}: Count of Top Categories Across {label}s')\n",
    "    plt.xlabel(label)\n",
    "    plt.ylabel('Count')\n",
    "    plt.legend()\n",
    "    plt.grid(True)\n",
    "    plt.show()"
   ]
  },
  {
   "cell_type": "code",
   "execution_count": 12,
   "id": "cfff3dda",
   "metadata": {},
   "outputs": [],
   "source": [
    "def barplot_with_hue(label):\n",
    "    label_category_counts = data.groupby([label, 'Category']).size().reset_index(name='Count')\n",
    "\n",
    "    # Get the 8 most common categories\n",
    "    top_categories = label_category_counts.groupby('Category')['Count'].sum().nlargest(8).index\n",
    "\n",
    "    # Filter the data for the top categories\n",
    "    label_category_counts_top8 = label_category_counts[label_category_counts['Category'].isin(top_categories)]\n",
    "\n",
    "    # Set the plotting style\n",
    "    sns.set(style=\"whitegrid\")\n",
    "\n",
    "    # Create a bar plot with hue (color) for each category\n",
    "    plt.figure(figsize=(14, 8))\n",
    "    sns.barplot(x=label, y='Count', hue='Category', data=label_category_counts_top8, palette='viridis')\n",
    "    plt.title(f'8 Most Common Categories per {label} with Hue for Each Category')\n",
    "    plt.xlabel(label)\n",
    "    plt.ylabel('Count')\n",
    "    plt.legend(title='Category', bbox_to_anchor=(1.05, 1), loc='upper left')  # Place the legend outside the plot\n",
    "    plt.show()"
   ]
  },
  {
   "cell_type": "code",
   "execution_count": 13,
   "id": "0810c6f7",
   "metadata": {},
   "outputs": [
    {
     "data": {
      "image/png": "[encoded data removed]",
      "text/plain": [
       "<Figure size 1080x576 with 1 Axes>"
      ]
     },
     "metadata": {
      "needs_background": "light"
     },
     "output_type": "display_data"
    }
   ],
   "source": [
    "plot_bar('Category', 1)"
   ]
  },
  {
   "cell_type": "markdown",
   "id": "90d25e41",
   "metadata": {},
   "source": [
    "На Fig. 1 се вижда, че разпределението на категориите (таргет променливата) е доста небалансирано - първите няколко са най-често срещаните, в сравнение с които последните изглежда са незначителни. Това ще трябва да се вземе предвид при избора на алгоритми и метрики."
   ]
  },
  {
   "cell_type": "code",
   "execution_count": 14,
   "id": "f27cbb57",
   "metadata": {},
   "outputs": [
    {
     "data": {
      "text/plain": [
       "count            878049\n",
       "unique               39\n",
       "top       LARCENY/THEFT\n",
       "freq             174900\n",
       "Name: Category, dtype: object"
      ]
     },
     "execution_count": 14,
     "metadata": {},
     "output_type": "execute_result"
    }
   ],
   "source": [
    "data['Category'].describe()"
   ]
  },
  {
   "cell_type": "markdown",
   "id": "62db92db",
   "metadata": {},
   "source": [
    "Има 39 различни категории престъпления, като най-често срещаната е Larceny/Theft."
   ]
  },
  {
   "cell_type": "code",
   "execution_count": 15,
   "id": "39aeef26",
   "metadata": {},
   "outputs": [
    {
     "data": {
      "image/png": "[encoded data removed]",
      "text/plain": [
       "<Figure size 1080x576 with 1 Axes>"
      ]
     },
     "metadata": {
      "needs_background": "light"
     },
     "output_type": "display_data"
    }
   ],
   "source": [
    "plot_bar('Year', fig_num=2, isChronological=True)"
   ]
  },
  {
   "cell_type": "markdown",
   "id": "d90e9557",
   "metadata": {},
   "source": [
    "На Fig. 2 се вижда, че разпределението на престъпленията по години (между 2003 и 2015) е сравнително равномерно, но все пак се наблюдава спад на престъпленията между 2003 и 2008 и между 2008 и 2011, след което има покачване. Вижда се, че през 2015 разпределението на престъпленията е на половина, но и в dataset-а рекордите за престъпления за тази година са само до средата Й. "
   ]
  },
  {
   "cell_type": "code",
   "execution_count": 16,
   "id": "91da1372",
   "metadata": {},
   "outputs": [
    {
     "data": {
      "text/html": [
       "<div>\n",
       "<style scoped>\n",
       "    .dataframe tbody tr th:only-of-type {\n",
       "        vertical-align: middle;\n",
       "    }\n",
       "\n",
       "    .dataframe tbody tr th {\n",
       "        vertical-align: top;\n",
       "    }\n",
       "\n",
       "    .dataframe thead th {\n",
       "        text-align: right;\n",
       "    }\n",
       "</style>\n",
       "<table border=\"1\" class=\"dataframe\">\n",
       "  <thead>\n",
       "    <tr style=\"text-align: right;\">\n",
       "      <th></th>\n",
       "      <th>count</th>\n",
       "      <th>unique</th>\n",
       "      <th>top</th>\n",
       "      <th>freq</th>\n",
       "    </tr>\n",
       "    <tr>\n",
       "      <th>Year</th>\n",
       "      <th></th>\n",
       "      <th></th>\n",
       "      <th></th>\n",
       "      <th></th>\n",
       "    </tr>\n",
       "  </thead>\n",
       "  <tbody>\n",
       "    <tr>\n",
       "      <th>2003</th>\n",
       "      <td>73902</td>\n",
       "      <td>37</td>\n",
       "      <td>LARCENY/THEFT</td>\n",
       "      <td>12990</td>\n",
       "    </tr>\n",
       "    <tr>\n",
       "      <th>2004</th>\n",
       "      <td>73422</td>\n",
       "      <td>37</td>\n",
       "      <td>LARCENY/THEFT</td>\n",
       "      <td>12111</td>\n",
       "    </tr>\n",
       "    <tr>\n",
       "      <th>2005</th>\n",
       "      <td>70779</td>\n",
       "      <td>37</td>\n",
       "      <td>LARCENY/THEFT</td>\n",
       "      <td>12402</td>\n",
       "    </tr>\n",
       "    <tr>\n",
       "      <th>2006</th>\n",
       "      <td>69909</td>\n",
       "      <td>38</td>\n",
       "      <td>LARCENY/THEFT</td>\n",
       "      <td>13798</td>\n",
       "    </tr>\n",
       "    <tr>\n",
       "      <th>2007</th>\n",
       "      <td>68015</td>\n",
       "      <td>38</td>\n",
       "      <td>LARCENY/THEFT</td>\n",
       "      <td>12760</td>\n",
       "    </tr>\n",
       "    <tr>\n",
       "      <th>2008</th>\n",
       "      <td>70174</td>\n",
       "      <td>38</td>\n",
       "      <td>LARCENY/THEFT</td>\n",
       "      <td>12800</td>\n",
       "    </tr>\n",
       "    <tr>\n",
       "      <th>2009</th>\n",
       "      <td>69000</td>\n",
       "      <td>37</td>\n",
       "      <td>LARCENY/THEFT</td>\n",
       "      <td>12538</td>\n",
       "    </tr>\n",
       "    <tr>\n",
       "      <th>2010</th>\n",
       "      <td>66542</td>\n",
       "      <td>39</td>\n",
       "      <td>LARCENY/THEFT</td>\n",
       "      <td>12214</td>\n",
       "    </tr>\n",
       "    <tr>\n",
       "      <th>2011</th>\n",
       "      <td>66619</td>\n",
       "      <td>38</td>\n",
       "      <td>LARCENY/THEFT</td>\n",
       "      <td>13084</td>\n",
       "    </tr>\n",
       "    <tr>\n",
       "      <th>2012</th>\n",
       "      <td>71731</td>\n",
       "      <td>39</td>\n",
       "      <td>LARCENY/THEFT</td>\n",
       "      <td>15639</td>\n",
       "    </tr>\n",
       "    <tr>\n",
       "      <th>2013</th>\n",
       "      <td>75606</td>\n",
       "      <td>39</td>\n",
       "      <td>LARCENY/THEFT</td>\n",
       "      <td>18152</td>\n",
       "    </tr>\n",
       "    <tr>\n",
       "      <th>2014</th>\n",
       "      <td>74766</td>\n",
       "      <td>37</td>\n",
       "      <td>LARCENY/THEFT</td>\n",
       "      <td>18901</td>\n",
       "    </tr>\n",
       "    <tr>\n",
       "      <th>2015</th>\n",
       "      <td>27584</td>\n",
       "      <td>37</td>\n",
       "      <td>LARCENY/THEFT</td>\n",
       "      <td>7511</td>\n",
       "    </tr>\n",
       "  </tbody>\n",
       "</table>\n",
       "</div>"
      ],
      "text/plain": [
       "      count unique            top   freq\n",
       "Year                                    \n",
       "2003  73902     37  LARCENY/THEFT  12990\n",
       "2004  73422     37  LARCENY/THEFT  12111\n",
       "2005  70779     37  LARCENY/THEFT  12402\n",
       "2006  69909     38  LARCENY/THEFT  13798\n",
       "2007  68015     38  LARCENY/THEFT  12760\n",
       "2008  70174     38  LARCENY/THEFT  12800\n",
       "2009  69000     37  LARCENY/THEFT  12538\n",
       "2010  66542     39  LARCENY/THEFT  12214\n",
       "2011  66619     38  LARCENY/THEFT  13084\n",
       "2012  71731     39  LARCENY/THEFT  15639\n",
       "2013  75606     39  LARCENY/THEFT  18152\n",
       "2014  74766     37  LARCENY/THEFT  18901\n",
       "2015  27584     37  LARCENY/THEFT   7511"
      ]
     },
     "execution_count": 16,
     "metadata": {},
     "output_type": "execute_result"
    }
   ],
   "source": [
    "data.groupby('Year')['Category'].describe()"
   ]
  },
  {
   "cell_type": "code",
   "execution_count": 17,
   "id": "8e827879",
   "metadata": {},
   "outputs": [
    {
     "data": {
      "image/png": "[encoded data removed]",
      "text/plain": [
       "<Figure size 864x576 with 1 Axes>"
      ]
     },
     "metadata": {
      "needs_background": "light"
     },
     "output_type": "display_data"
    }
   ],
   "source": [
    "plot_line('Year', fig_num=3)"
   ]
  },
  {
   "cell_type": "markdown",
   "id": "2689fcc4",
   "metadata": {},
   "source": [
    "Na Fig. 3 наблюдаваме, че Larceny/Theft е водеща категория през всички години. В останалите топ 5 най-често срещани категории се случват леки размествания през годините, но като цяло най-често срещаните категории през всички години са си и най-често срещаните за всяка година. През някои от годините не са се случвали престъпления от някоя от категориите. Нека видим кои по-конкретно."
   ]
  },
  {
   "cell_type": "code",
   "execution_count": 18,
   "id": "2dacd4ef",
   "metadata": {},
   "outputs": [
    {
     "data": {
      "text/plain": [
       "{2003: {'RECOVERED VEHICLE', 'TREA'},\n",
       " 2004: {'RECOVERED VEHICLE', 'TREA'},\n",
       " 2005: {'RECOVERED VEHICLE', 'TREA'},\n",
       " 2006: {'TREA'},\n",
       " 2007: {'TREA'},\n",
       " 2008: {'TREA'},\n",
       " 2009: {'PORNOGRAPHY/OBSCENE MAT', 'TREA'},\n",
       " 2010: set(),\n",
       " 2011: {'TREA'},\n",
       " 2012: set(),\n",
       " 2013: set(),\n",
       " 2014: {'PORNOGRAPHY/OBSCENE MAT', 'RECOVERED VEHICLE'},\n",
       " 2015: {'PORNOGRAPHY/OBSCENE MAT', 'RECOVERED VEHICLE'}}"
      ]
     },
     "execution_count": 18,
     "metadata": {},
     "output_type": "execute_result"
    }
   ],
   "source": [
    "all_categories = set(data['Category'].unique())\n",
    "unique_categories_per_year = data.groupby('Year')['Category'].unique()\n",
    "missing_categories_per_year = {year: all_categories - set(categories) for year, categories in unique_categories_per_year.items()}\n",
    "missing_categories_per_year"
   ]
  },
  {
   "cell_type": "markdown",
   "id": "17947e4c",
   "metadata": {},
   "source": [
    "Липсващите категории през някои от годините са и едни от най-рядко срещаните - TREA, RECOVERED VEHICLE, PORNOGRAPHY/OBSCENE MAT."
   ]
  },
  {
   "cell_type": "code",
   "execution_count": 19,
   "id": "2be8707a",
   "metadata": {},
   "outputs": [
    {
     "data": {
      "image/png": "[encoded data removed]",
      "text/plain": [
       "<Figure size 1080x576 with 1 Axes>"
      ]
     },
     "metadata": {
      "needs_background": "light"
     },
     "output_type": "display_data"
    }
   ],
   "source": [
    "plot_bar('Month', fig_num=4, isChronological=True)"
   ]
  },
  {
   "cell_type": "markdown",
   "id": "a6d118ed",
   "metadata": {},
   "source": [
    "На графиката за разпределение на престъпленията по месеци се наблюдава, че през пролетните (3, 4, 5) и есенните месеци (9, 10, 11) се случват най-много престъпления. Най-малко са престъпленията през декември месец. Това е малко неинтуитивно, защото се очаква летните месеци, когато хората отиват на почивка и има туристи, или през зимните по празниците да се извършват повече престъпления. Може да се вземе предвид при обработката на данни и да се добави season характеристика и също така, за да се види дали категорията се влияе от това дали е празничен ден, може да се добави характеристика isHoliday."
   ]
  },
  {
   "cell_type": "code",
   "execution_count": 20,
   "id": "2ab6ecff",
   "metadata": {},
   "outputs": [
    {
     "data": {
      "image/png": "[encoded data removed]",
      "text/plain": [
       "<Figure size 864x576 with 1 Axes>"
      ]
     },
     "metadata": {
      "needs_background": "light"
     },
     "output_type": "display_data"
    }
   ],
   "source": [
    "plot_line('Month', fig_num=5, categories_count=8)"
   ]
  },
  {
   "cell_type": "markdown",
   "id": "68592ecc",
   "metadata": {},
   "source": [
    "На Fig. 5 за разпределението на престъпленията от топ 8 най-срещани категории по месеци се забелязва същата зависимост - и в 8те категории има известен спад на престъпленията през лятото и зимата, но при някои не е толкова голям като Vandalism и Warrants. При някои категории като Larceny/Theft и Non-Criminal в пролетните месеци се наблюдава завишаване, докато при други като Warrents и Drug/Narcotic не се забелязва."
   ]
  },
  {
   "cell_type": "code",
   "execution_count": 21,
   "id": "39f20a03",
   "metadata": {},
   "outputs": [
    {
     "data": {
      "image/png": "[encoded data removed]",
      "text/plain": [
       "<Figure size 1080x576 with 1 Axes>"
      ]
     },
     "metadata": {
      "needs_background": "light"
     },
     "output_type": "display_data"
    }
   ],
   "source": [
    "plot_bar('Hour', fig_num=6)"
   ]
  },
  {
   "cell_type": "markdown",
   "id": "e3b9ffaa",
   "metadata": {},
   "source": [
    "На графиката за разпределението на престъпленията по часове се наблюдава, че общо престъпленията се извършват най-често късно следобед и вечер до 12:00 am. Нека да видим дали същото се отнася и за отделните категории."
   ]
  },
  {
   "cell_type": "code",
   "execution_count": 22,
   "id": "c0a83ab8",
   "metadata": {},
   "outputs": [
    {
     "data": {
      "image/png": "[encoded data removed]",
      "text/plain": [
       "<Figure size 864x576 with 1 Axes>"
      ]
     },
     "metadata": {
      "needs_background": "light"
     },
     "output_type": "display_data"
    }
   ],
   "source": [
    "plot_line('Hour', fig_num=7)"
   ]
  },
  {
   "cell_type": "markdown",
   "id": "7d74d37b",
   "metadata": {},
   "source": [
    "На графиката, показваща разпределнията на престъпленията от топ 5 най-чести категории по часове, се забелязва същата зависимост - извършените престъпления дообяд и най-вече през нощта и рано сутрин между 1:00 и 6:00 са сравнително по-малко.  \n",
    "Има обаче известни разлики в часовите диапазони и пиковете: \n",
    "- при DRUG/NARCOTIC пиковите часове са от 13:00 до 19:00\n",
    "- при АSSAULT от 12:00 до към 2:00 са сравнително равномерно разпределени, но една идея по-пикови са 12:00 и 0:00\n",
    "- при NON-CRIMINAL между 10:00 и 17:00 се наблюдават по-често, но с доста остър пик в 12:00\n",
    "- при OTHER OFFENECES между 12:00 и 19:00 и между 22:00 и 0:00\n",
    "- при LARCENY/THEFT между 12:00 и 23:00, като към 18:00-19:00 са доста повече  \n",
    "   \n",
    "Може да се експериментира с feature engineering, като се добави характеристика за часовия диапазон (morning, afternoon, evening, night), и да се види какъв е перформънса на модела спрямо различните feature-и и дали влияе по-скоро конкратен час или не."
   ]
  },
  {
   "cell_type": "code",
   "execution_count": 23,
   "id": "3265d095",
   "metadata": {},
   "outputs": [
    {
     "data": {
      "image/png": "[encoded data removed]",
      "text/plain": [
       "<Figure size 864x432 with 1 Axes>"
      ]
     },
     "metadata": {
      "needs_background": "light"
     },
     "output_type": "display_data"
    }
   ],
   "source": [
    "plt.figure(figsize=(12, 6))\n",
    "plt.scatter(data['X'], data['Y'], c=data['Category'].astype('category').cat.codes, cmap='Set1', alpha=0.5)\n",
    "plt.title('Fig. 8: Spatial Distribution of Crimes')\n",
    "plt.xlabel('Longitude')\n",
    "plt.ylabel('Latitude')\n",
    "plt.show()"
   ]
  },
  {
   "cell_type": "markdown",
   "id": "0f751506",
   "metadata": {},
   "source": [
    "На Fig. 8 се вижда, че повечето престъпления са в един участък, освен няколко outlier-а, които ще трябва да се вземат предвид при обработката на данни. По данни от Google San Francisco се намира на ширина 37.773972, дължина -122.431297. Следователно outlier-ите с ширина по-голяма от 37.773972 и дължина по-малка от -122.431297 трябва да се премахнат."
   ]
  },
  {
   "cell_type": "code",
   "execution_count": 24,
   "id": "fdcf8fc7",
   "metadata": {},
   "outputs": [
    {
     "data": {
      "image/png": "[encoded data removed]",
      "text/plain": [
       "<Figure size 1080x576 with 1 Axes>"
      ]
     },
     "metadata": {
      "needs_background": "light"
     },
     "output_type": "display_data"
    }
   ],
   "source": [
    "plot_bar('DayOfWeek', fig_num=9)"
   ]
  },
  {
   "cell_type": "markdown",
   "id": "9ada3831",
   "metadata": {},
   "source": [
    "На фигурата за разпределението на престъпленията по дни в седмицата се наблюдава, че са срванително равномерно разпределени, но в петък са най-много."
   ]
  },
  {
   "cell_type": "code",
   "execution_count": 25,
   "id": "2b941447",
   "metadata": {},
   "outputs": [
    {
     "data": {
      "image/png": "[encoded data removed]",
      "text/plain": [
       "<Figure size 864x576 with 1 Axes>"
      ]
     },
     "metadata": {
      "needs_background": "light"
     },
     "output_type": "display_data"
    }
   ],
   "source": [
    "day_order = ['Monday', 'Tuesday', 'Wednesday', 'Thursday', 'Friday', 'Saturday', 'Sunday']\n",
    "data['DayOfWeek'] = pd.Categorical(data['DayOfWeek'], categories=day_order, ordered=True)\n",
    "plot_line('DayOfWeek', fig_num=10)"
   ]
  },
  {
   "cell_type": "markdown",
   "id": "992fe25a",
   "metadata": {},
   "source": [
    "На фигурата за разпраделението на престъпленията за топ 5 най-чести категории по дни в седмицата, се забелязва, че престъпленията в някои от категориите намаляват по време на уикенда (OTHER OFFENCES, DRUG/NARCOTIC), докато други (ASSAULT) се увеличават. С това също може да се експериментира по време на feature engineering и да се види как влияе на перформънса на модела."
   ]
  },
  {
   "cell_type": "code",
   "execution_count": 26,
   "id": "e27b7a4b",
   "metadata": {},
   "outputs": [
    {
     "data": {
      "image/png": "[encoded data removed]",
      "text/plain": [
       "<Figure size 1080x576 with 1 Axes>"
      ]
     },
     "metadata": {
      "needs_background": "light"
     },
     "output_type": "display_data"
    }
   ],
   "source": [
    "plot_bar('PdDistrict', fig_num=11)"
   ]
  },
  {
   "cell_type": "markdown",
   "id": "6977d0cc",
   "metadata": {},
   "source": [
    "На Fig. 6 се забелязва как престъпленията нямаляват спрямо района на полицейските участъци."
   ]
  },
  {
   "cell_type": "code",
   "execution_count": 27,
   "id": "28753035",
   "metadata": {},
   "outputs": [
    {
     "data": {
      "image/png": "[encoded data removed]",
      "text/plain": [
       "<Figure size 1008x576 with 1 Axes>"
      ]
     },
     "metadata": {},
     "output_type": "display_data"
    }
   ],
   "source": [
    "barplot_with_hue('PdDistrict')"
   ]
  },
  {
   "cell_type": "markdown",
   "id": "b8cb86b5",
   "metadata": {},
   "source": [
    "От горната графика се забелязва, че различните категории престъпления имат различно density за различните участъци. Например въпреки, че в Richmond се случват най-малко престъпления, най-малко Vehicle Theft престъпления се случват в Tenderloin. Това показва, че може би този feature, ще е от значение при предсказването на категорията."
   ]
  },
  {
   "cell_type": "code",
   "execution_count": 28,
   "id": "6b4b19ab",
   "metadata": {},
   "outputs": [
    {
     "data": {
      "text/plain": [
       "800 Block of BRYANT ST         26533\n",
       "800 Block of MARKET ST          6581\n",
       "2000 Block of MISSION ST        5097\n",
       "1000 Block of POTRERO AV        4063\n",
       "900 Block of MARKET ST          3251\n",
       "                               ...  \n",
       "BOYLSTON ST / SWEENY ST            1\n",
       "PARK PRESIDIO BL / GEARY BL        1\n",
       "33RD AV / MORAGA ST                1\n",
       "22ND ST / VICKSBURG ST             1\n",
       "GRAYSTONE TR / TWINPEAKS BL        1\n",
       "Name: Address, Length: 23228, dtype: int64"
      ]
     },
     "execution_count": 28,
     "metadata": {},
     "output_type": "execute_result"
    }
   ],
   "source": [
    "data['Address'].value_counts()"
   ]
  },
  {
   "cell_type": "markdown",
   "id": "b3a8c769",
   "metadata": {},
   "source": [
    "От тук виждаме, че има 23 228 уникални адреса и че най-вероятно повечето адреси са или block, или intersection (/). Нека видим дали може всички да ги разделим на тези 2 категории."
   ]
  },
  {
   "cell_type": "code",
   "execution_count": 29,
   "id": "3082b44a",
   "metadata": {},
   "outputs": [
    {
     "data": {
      "text/plain": [
       "True"
      ]
     },
     "execution_count": 29,
     "metadata": {},
     "output_type": "execute_result"
    }
   ],
   "source": [
    "block_records = data[data['Address'].str.contains('block', case=False, na=False)]\n",
    "block_records_count = len(block_records)\n",
    "\n",
    "intersection_records = data[data['Address'].str.contains('/', case=False, na=False)]\n",
    "intersection_records_count = len(intersection_records)\n",
    "\n",
    "block_records_count + intersection_records_count == data.shape[0]"
   ]
  },
  {
   "cell_type": "markdown",
   "id": "7c6e13b5",
   "metadata": {},
   "source": [
    "Всички адреси са или block, или intersection, така че при обработката на данни може да заменим Address характеристиката с това дали престъплението се е случило на block или intersection и да видим как се справя модела, защото уникалните стойности за Address са доста и при encodе-ването им размерността na feature вектора ще стане доста голяма."
   ]
  },
  {
   "cell_type": "code",
   "execution_count": 54,
   "id": "bd8dca7f",
   "metadata": {},
   "outputs": [],
   "source": [
    "del block_records\n",
    "del intersection_records"
   ]
  },
  {
   "cell_type": "markdown",
   "id": "f72225e0",
   "metadata": {},
   "source": [
    "#### Предварителна обработка на данните"
   ]
  },
  {
   "cell_type": "markdown",
   "id": "37b13288",
   "metadata": {},
   "source": [
    "В EDA секцията установихме, че няма липсващи стойности в нито една от характеристиките, но има outlier-и, чиято информация е грешна. Тези outlier-и трябва да бъдат премахнати от сета с данни, използвайки Z-score."
   ]
  },
  {
   "cell_type": "code",
   "execution_count": 4,
   "id": "7913f9ac",
   "metadata": {},
   "outputs": [
    {
     "data": {
      "text/html": [
       "<div>\n",
       "<style scoped>\n",
       "    .dataframe tbody tr th:only-of-type {\n",
       "        vertical-align: middle;\n",
       "    }\n",
       "\n",
       "    .dataframe tbody tr th {\n",
       "        vertical-align: top;\n",
       "    }\n",
       "\n",
       "    .dataframe thead th {\n",
       "        text-align: right;\n",
       "    }\n",
       "</style>\n",
       "<table border=\"1\" class=\"dataframe\">\n",
       "  <thead>\n",
       "    <tr style=\"text-align: right;\">\n",
       "      <th></th>\n",
       "      <th>X</th>\n",
       "      <th>Y</th>\n",
       "      <th>Year</th>\n",
       "      <th>Month</th>\n",
       "      <th>Day</th>\n",
       "      <th>Hour</th>\n",
       "      <th>Minute</th>\n",
       "    </tr>\n",
       "  </thead>\n",
       "  <tbody>\n",
       "    <tr>\n",
       "      <th>count</th>\n",
       "      <td>877982.000000</td>\n",
       "      <td>877982.000000</td>\n",
       "      <td>877982.000000</td>\n",
       "      <td>877982.000000</td>\n",
       "      <td>877982.000000</td>\n",
       "      <td>877982.000000</td>\n",
       "      <td>877982.000000</td>\n",
       "    </tr>\n",
       "    <tr>\n",
       "      <th>mean</th>\n",
       "      <td>-122.422763</td>\n",
       "      <td>37.767035</td>\n",
       "      <td>2008.712378</td>\n",
       "      <td>6.436416</td>\n",
       "      <td>15.570501</td>\n",
       "      <td>13.412737</td>\n",
       "      <td>20.155163</td>\n",
       "    </tr>\n",
       "    <tr>\n",
       "      <th>std</th>\n",
       "      <td>0.025285</td>\n",
       "      <td>0.024165</td>\n",
       "      <td>3.631126</td>\n",
       "      <td>3.428998</td>\n",
       "      <td>8.782976</td>\n",
       "      <td>6.549521</td>\n",
       "      <td>18.595053</td>\n",
       "    </tr>\n",
       "    <tr>\n",
       "      <th>min</th>\n",
       "      <td>-122.513642</td>\n",
       "      <td>37.707879</td>\n",
       "      <td>2003.000000</td>\n",
       "      <td>1.000000</td>\n",
       "      <td>1.000000</td>\n",
       "      <td>0.000000</td>\n",
       "      <td>0.000000</td>\n",
       "    </tr>\n",
       "    <tr>\n",
       "      <th>25%</th>\n",
       "      <td>-122.432952</td>\n",
       "      <td>37.752427</td>\n",
       "      <td>2006.000000</td>\n",
       "      <td>3.000000</td>\n",
       "      <td>8.000000</td>\n",
       "      <td>9.000000</td>\n",
       "      <td>0.000000</td>\n",
       "    </tr>\n",
       "    <tr>\n",
       "      <th>50%</th>\n",
       "      <td>-122.416420</td>\n",
       "      <td>37.775421</td>\n",
       "      <td>2009.000000</td>\n",
       "      <td>6.000000</td>\n",
       "      <td>16.000000</td>\n",
       "      <td>14.000000</td>\n",
       "      <td>19.000000</td>\n",
       "    </tr>\n",
       "    <tr>\n",
       "      <th>75%</th>\n",
       "      <td>-122.406959</td>\n",
       "      <td>37.784368</td>\n",
       "      <td>2012.000000</td>\n",
       "      <td>9.000000</td>\n",
       "      <td>23.000000</td>\n",
       "      <td>19.000000</td>\n",
       "      <td>33.000000</td>\n",
       "    </tr>\n",
       "    <tr>\n",
       "      <th>max</th>\n",
       "      <td>-122.364937</td>\n",
       "      <td>37.819975</td>\n",
       "      <td>2015.000000</td>\n",
       "      <td>12.000000</td>\n",
       "      <td>31.000000</td>\n",
       "      <td>23.000000</td>\n",
       "      <td>59.000000</td>\n",
       "    </tr>\n",
       "  </tbody>\n",
       "</table>\n",
       "</div>"
      ],
      "text/plain": [
       "                   X              Y           Year          Month  \\\n",
       "count  877982.000000  877982.000000  877982.000000  877982.000000   \n",
       "mean     -122.422763      37.767035    2008.712378       6.436416   \n",
       "std         0.025285       0.024165       3.631126       3.428998   \n",
       "min      -122.513642      37.707879    2003.000000       1.000000   \n",
       "25%      -122.432952      37.752427    2006.000000       3.000000   \n",
       "50%      -122.416420      37.775421    2009.000000       6.000000   \n",
       "75%      -122.406959      37.784368    2012.000000       9.000000   \n",
       "max      -122.364937      37.819975    2015.000000      12.000000   \n",
       "\n",
       "                 Day           Hour         Minute  \n",
       "count  877982.000000  877982.000000  877982.000000  \n",
       "mean       15.570501      13.412737      20.155163  \n",
       "std         8.782976       6.549521      18.595053  \n",
       "min         1.000000       0.000000       0.000000  \n",
       "25%         8.000000       9.000000       0.000000  \n",
       "50%        16.000000      14.000000      19.000000  \n",
       "75%        23.000000      19.000000      33.000000  \n",
       "max        31.000000      23.000000      59.000000  "
      ]
     },
     "execution_count": 4,
     "metadata": {},
     "output_type": "execute_result"
    }
   ],
   "source": [
    "z_scores_x = np.abs((data['X'] - data['X'].mean()) / data['X'].std())\n",
    "z_scores_y = np.abs((data['Y'] - data['Y'].mean()) / data['Y'].std())\n",
    "\n",
    "# Set a threshold for Z-score (e.g., 3, which is a common choice)\n",
    "threshold = 3\n",
    "\n",
    "# Remove rows where Z-score is below the threshold for both 'X' and 'Y'\n",
    "data = data[(z_scores_x < threshold) & (z_scores_y < threshold)]\n",
    "data.describe()"
   ]
  },
  {
   "cell_type": "code",
   "execution_count": 5,
   "id": "d58a4db0",
   "metadata": {},
   "outputs": [],
   "source": [
    "del z_scores_x\n",
    "del z_scores_y"
   ]
  },
  {
   "cell_type": "markdown",
   "id": "3854b9c2",
   "metadata": {},
   "source": [
    "Премахваме излишните за проблема характеристики и добавяме обсъдените в EDA."
   ]
  },
  {
   "cell_type": "code",
   "execution_count": 6,
   "id": "32183045",
   "metadata": {},
   "outputs": [],
   "source": [
    "#Remove Resolution and Descript characterics from the data frama\n",
    "data = data.drop(['Resolution', 'Descript'], axis=1)"
   ]
  },
  {
   "cell_type": "markdown",
   "id": "936a823f",
   "metadata": {},
   "source": [
    "По време на EDA превърнахме Dates стринга в datatime и извлякохме годината, месеца и часа в отделни характеристики. Отбелязахме, че може да има корелация между типа престъпление и сезона (пролет, лято, есен, зима), както и времевия диапазон на престъплението (ранна сутрин, късна сутрин, ранен следобед, късен следобед, вечер, нощ) и дали е по време на работни часове. Нека ги добавим като характеристики."
   ]
  },
  {
   "cell_type": "code",
   "execution_count": 7,
   "id": "375f8e1e",
   "metadata": {},
   "outputs": [],
   "source": [
    "def extract_season(month):\n",
    "    if (month >= 12) or (month <= 2):\n",
    "        return 'winter'\n",
    "    elif (month >= 3) and (month <= 5):\n",
    "        return 'spring'\n",
    "    elif (month >= 6) and (month <= 8):\n",
    "        return 'summer'\n",
    "    else:\n",
    "        return 'autumn' \n",
    "\n",
    "def extract_hour_range(hour):\n",
    "    if (hour >= 6) and (hour < 10):\n",
    "        return 'early-morning'\n",
    "    elif (hour >= 10) and (hour < 12):\n",
    "        return 'late-morning'\n",
    "    elif (hour >= 12) and (hour < 15):\n",
    "        return 'early-afternoon'\n",
    "    elif (hour >= 15) and (hour < 18):\n",
    "        return 'late-afternoon'\n",
    "    elif (hour >= 18) or (hour < 1):\n",
    "        return 'evening'\n",
    "    else:\n",
    "        return 'night'\n",
    "\n",
    "def extract_is_during_business_hours(day_of_week, hour):\n",
    "    return 1 if (day_of_week != 'Saturday') and (day_of_week != 'Sunday') and (hour >= 9) and (hour < 17) else 0"
   ]
  },
  {
   "cell_type": "code",
   "execution_count": 8,
   "id": "5d4112e3",
   "metadata": {},
   "outputs": [],
   "source": [
    "# Add a field season (winter, spring, summer, autumn) based on the month of the crime\n",
    "data['Season'] = data['Month'].apply(func=extract_season)\n",
    "\n",
    "# Add a field HourRange (early-morning, late-morning, early-afternoon, late-afternoon, evening, night) based on the hour of the crime\n",
    "data['HourRange'] = data['Hour'].apply(func=extract_hour_range)\n",
    "\n",
    "# Add a field IsDuringBusinessHours that says if the crime occured between 9am and 5pm Monday to Friday\n",
    "data['IsDuringBusinessHours'] = data.apply(lambda row: extract_is_during_business_hours(row['DayOfWeek'], row['Hour']), axis=1)"
   ]
  },
  {
   "cell_type": "markdown",
   "id": "6e6a4ccf",
   "metadata": {},
   "source": [
    "Също така беше споменато, че може да има корелация между категорията на престъплението и това дали е извършено през уикенда или през празничен ден."
   ]
  },
  {
   "cell_type": "code",
   "execution_count": 9,
   "id": "e78ea4f0",
   "metadata": {},
   "outputs": [],
   "source": [
    "# Add a field IsWeekend (0=False, 1=True) based on the day of the week the crime happened\n",
    "data['IsWeekend'] = data['DayOfWeek'].isin(['Saturday', 'Sunday']).astype(int)\n",
    "\n",
    "# Get all US public holidays\n",
    "us_holidays = holidays.UnitedStates(years=data['Dates'].dt.year.unique())\n",
    "\n",
    "# Add a field IsHoliday (0=False, 1=True) based on the date of the crime happened\n",
    "data['IsHoliday'] = data['Dates'].dt.date.astype('datetime64').isin(us_holidays).astype(int)"
   ]
  },
  {
   "cell_type": "markdown",
   "id": "daf88627",
   "metadata": {},
   "source": [
    "За да не загубим връзката между отделните компоненти и да запазим датата като точка във времето ще трансформираме datatime обекта в epoch time и ще премахнем колоната Dates, тъй като не можем да я използваме при тренирането на модела."
   ]
  },
  {
   "cell_type": "code",
   "execution_count": 10,
   "id": "36f19dfb",
   "metadata": {},
   "outputs": [],
   "source": [
    "data['EpochTime'] = data['Dates'].apply(lambda x: x.timestamp())"
   ]
  },
  {
   "cell_type": "code",
   "execution_count": 11,
   "id": "5902316e",
   "metadata": {},
   "outputs": [],
   "source": [
    "data.drop('Dates', axis=1, inplace=True)"
   ]
  },
  {
   "cell_type": "markdown",
   "id": "9c33f67b",
   "metadata": {},
   "source": [
    "В EDA секцията беше установено, че адресите на престъплението са или на block, или на intersection. Добавяме ново поле, установяващо дали престъплението се е случило на block и премахваме полето за Address, тъй като е текстово и е по-сложно да го използваме при установяване на някаква зависимост."
   ]
  },
  {
   "cell_type": "code",
   "execution_count": 12,
   "id": "774a0a62",
   "metadata": {},
   "outputs": [],
   "source": [
    "def extract_address_type(address):\n",
    "    return 1 if 'block' in address.lower() else 0"
   ]
  },
  {
   "cell_type": "code",
   "execution_count": 13,
   "id": "2b5ba21a",
   "metadata": {},
   "outputs": [],
   "source": [
    "# Add a field isOnBlock based on the Address (wether the crime happened on a block or intersection)\n",
    "data['IsOnBlock'] = data['Address'].apply(func=extract_address_type)"
   ]
  },
  {
   "cell_type": "code",
   "execution_count": 14,
   "id": "1bc08c0d",
   "metadata": {},
   "outputs": [],
   "source": [
    "data.drop('Address', axis=1, inplace=True)"
   ]
  },
  {
   "cell_type": "markdown",
   "id": "4504d0d7",
   "metadata": {},
   "source": [
    "След добавянето на всички нови полета, данните изглеждат така:"
   ]
  },
  {
   "cell_type": "code",
   "execution_count": 15,
   "id": "35970ee3",
   "metadata": {},
   "outputs": [
    {
     "data": {
      "text/html": [
       "<div>\n",
       "<style scoped>\n",
       "    .dataframe tbody tr th:only-of-type {\n",
       "        vertical-align: middle;\n",
       "    }\n",
       "\n",
       "    .dataframe tbody tr th {\n",
       "        vertical-align: top;\n",
       "    }\n",
       "\n",
       "    .dataframe thead th {\n",
       "        text-align: right;\n",
       "    }\n",
       "</style>\n",
       "<table border=\"1\" class=\"dataframe\">\n",
       "  <thead>\n",
       "    <tr style=\"text-align: right;\">\n",
       "      <th></th>\n",
       "      <th>Category</th>\n",
       "      <th>DayOfWeek</th>\n",
       "      <th>PdDistrict</th>\n",
       "      <th>X</th>\n",
       "      <th>Y</th>\n",
       "      <th>Year</th>\n",
       "      <th>Month</th>\n",
       "      <th>Day</th>\n",
       "      <th>Hour</th>\n",
       "      <th>Minute</th>\n",
       "      <th>Season</th>\n",
       "      <th>HourRange</th>\n",
       "      <th>IsDuringBusinessHours</th>\n",
       "      <th>IsWeekend</th>\n",
       "      <th>IsHoliday</th>\n",
       "      <th>EpochTime</th>\n",
       "      <th>IsOnBlock</th>\n",
       "    </tr>\n",
       "  </thead>\n",
       "  <tbody>\n",
       "    <tr>\n",
       "      <th>0</th>\n",
       "      <td>WARRANTS</td>\n",
       "      <td>Wednesday</td>\n",
       "      <td>NORTHERN</td>\n",
       "      <td>-122.425892</td>\n",
       "      <td>37.774599</td>\n",
       "      <td>2015</td>\n",
       "      <td>5</td>\n",
       "      <td>13</td>\n",
       "      <td>23</td>\n",
       "      <td>53</td>\n",
       "      <td>spring</td>\n",
       "      <td>evening</td>\n",
       "      <td>0</td>\n",
       "      <td>0</td>\n",
       "      <td>0</td>\n",
       "      <td>1.431561e+09</td>\n",
       "      <td>0</td>\n",
       "    </tr>\n",
       "    <tr>\n",
       "      <th>1</th>\n",
       "      <td>OTHER OFFENSES</td>\n",
       "      <td>Wednesday</td>\n",
       "      <td>NORTHERN</td>\n",
       "      <td>-122.425892</td>\n",
       "      <td>37.774599</td>\n",
       "      <td>2015</td>\n",
       "      <td>5</td>\n",
       "      <td>13</td>\n",
       "      <td>23</td>\n",
       "      <td>53</td>\n",
       "      <td>spring</td>\n",
       "      <td>evening</td>\n",
       "      <td>0</td>\n",
       "      <td>0</td>\n",
       "      <td>0</td>\n",
       "      <td>1.431561e+09</td>\n",
       "      <td>0</td>\n",
       "    </tr>\n",
       "    <tr>\n",
       "      <th>2</th>\n",
       "      <td>OTHER OFFENSES</td>\n",
       "      <td>Wednesday</td>\n",
       "      <td>NORTHERN</td>\n",
       "      <td>-122.424363</td>\n",
       "      <td>37.800414</td>\n",
       "      <td>2015</td>\n",
       "      <td>5</td>\n",
       "      <td>13</td>\n",
       "      <td>23</td>\n",
       "      <td>33</td>\n",
       "      <td>spring</td>\n",
       "      <td>evening</td>\n",
       "      <td>0</td>\n",
       "      <td>0</td>\n",
       "      <td>0</td>\n",
       "      <td>1.431560e+09</td>\n",
       "      <td>0</td>\n",
       "    </tr>\n",
       "  </tbody>\n",
       "</table>\n",
       "</div>"
      ],
      "text/plain": [
       "         Category  DayOfWeek PdDistrict           X          Y  Year  Month  \\\n",
       "0        WARRANTS  Wednesday   NORTHERN -122.425892  37.774599  2015      5   \n",
       "1  OTHER OFFENSES  Wednesday   NORTHERN -122.425892  37.774599  2015      5   \n",
       "2  OTHER OFFENSES  Wednesday   NORTHERN -122.424363  37.800414  2015      5   \n",
       "\n",
       "   Day  Hour  Minute  Season HourRange  IsDuringBusinessHours  IsWeekend  \\\n",
       "0   13    23      53  spring   evening                      0          0   \n",
       "1   13    23      53  spring   evening                      0          0   \n",
       "2   13    23      33  spring   evening                      0          0   \n",
       "\n",
       "   IsHoliday     EpochTime  IsOnBlock  \n",
       "0          0  1.431561e+09          0  \n",
       "1          0  1.431561e+09          0  \n",
       "2          0  1.431560e+09          0  "
      ]
     },
     "execution_count": 15,
     "metadata": {},
     "output_type": "execute_result"
    }
   ],
   "source": [
    "data.head(3)"
   ]
  },
  {
   "cell_type": "code",
   "execution_count": 16,
   "id": "8106f3af",
   "metadata": {},
   "outputs": [
    {
     "name": "stdout",
     "output_type": "stream",
     "text": [
      "<class 'pandas.core.frame.DataFrame'>\n",
      "Int64Index: 877982 entries, 0 to 878048\n",
      "Data columns (total 17 columns):\n",
      " #   Column                 Non-Null Count   Dtype  \n",
      "---  ------                 --------------   -----  \n",
      " 0   Category               877982 non-null  object \n",
      " 1   DayOfWeek              877982 non-null  object \n",
      " 2   PdDistrict             877982 non-null  object \n",
      " 3   X                      877982 non-null  float64\n",
      " 4   Y                      877982 non-null  float64\n",
      " 5   Year                   877982 non-null  int64  \n",
      " 6   Month                  877982 non-null  int64  \n",
      " 7   Day                    877982 non-null  int64  \n",
      " 8   Hour                   877982 non-null  int64  \n",
      " 9   Minute                 877982 non-null  int64  \n",
      " 10  Season                 877982 non-null  object \n",
      " 11  HourRange              877982 non-null  object \n",
      " 12  IsDuringBusinessHours  877982 non-null  int64  \n",
      " 13  IsWeekend              877982 non-null  int32  \n",
      " 14  IsHoliday              877982 non-null  int32  \n",
      " 15  EpochTime              877982 non-null  float64\n",
      " 16  IsOnBlock              877982 non-null  int64  \n",
      "dtypes: float64(3), int32(2), int64(7), object(5)\n",
      "memory usage: 113.9+ MB\n"
     ]
    }
   ],
   "source": [
    "data.info()"
   ]
  },
  {
   "cell_type": "markdown",
   "id": "7d1e62c2",
   "metadata": {},
   "source": [
    "Характеристиките DayOfWeek, PdDistrict, Address, HourRange, Season са категорийни. За да ги използваме в алгоритмите трябва да ги encode-нем. Но при използването на различните алгоритми, ще го направим по различен начин, тъй като нямат ординална връзка би трябвало да използваме one-hot-encoding, но при Random Forest алгоритъма например ординалността няма значение и може да си ги енкоднем с числа.  \n",
    "И тъй като също така ще експериментираме с използването на различни характеристики, нека запазим досегашните данни."
   ]
  },
  {
   "cell_type": "code",
   "execution_count": 17,
   "id": "51d77580",
   "metadata": {},
   "outputs": [
    {
     "data": {
      "text/html": [
       "<div>\n",
       "<style scoped>\n",
       "    .dataframe tbody tr th:only-of-type {\n",
       "        vertical-align: middle;\n",
       "    }\n",
       "\n",
       "    .dataframe tbody tr th {\n",
       "        vertical-align: top;\n",
       "    }\n",
       "\n",
       "    .dataframe thead th {\n",
       "        text-align: right;\n",
       "    }\n",
       "</style>\n",
       "<table border=\"1\" class=\"dataframe\">\n",
       "  <thead>\n",
       "    <tr style=\"text-align: right;\">\n",
       "      <th></th>\n",
       "      <th>Category</th>\n",
       "      <th>DayOfWeek</th>\n",
       "      <th>PdDistrict</th>\n",
       "      <th>X</th>\n",
       "      <th>Y</th>\n",
       "      <th>Year</th>\n",
       "      <th>Month</th>\n",
       "      <th>Day</th>\n",
       "      <th>Hour</th>\n",
       "      <th>Minute</th>\n",
       "      <th>Season</th>\n",
       "      <th>HourRange</th>\n",
       "      <th>IsDuringBusinessHours</th>\n",
       "      <th>IsWeekend</th>\n",
       "      <th>IsHoliday</th>\n",
       "      <th>EpochTime</th>\n",
       "      <th>IsOnBlock</th>\n",
       "    </tr>\n",
       "  </thead>\n",
       "  <tbody>\n",
       "    <tr>\n",
       "      <th>0</th>\n",
       "      <td>WARRANTS</td>\n",
       "      <td>Wednesday</td>\n",
       "      <td>NORTHERN</td>\n",
       "      <td>-122.425892</td>\n",
       "      <td>37.774599</td>\n",
       "      <td>2015</td>\n",
       "      <td>5</td>\n",
       "      <td>13</td>\n",
       "      <td>23</td>\n",
       "      <td>53</td>\n",
       "      <td>spring</td>\n",
       "      <td>evening</td>\n",
       "      <td>0</td>\n",
       "      <td>0</td>\n",
       "      <td>0</td>\n",
       "      <td>1.431561e+09</td>\n",
       "      <td>0</td>\n",
       "    </tr>\n",
       "    <tr>\n",
       "      <th>1</th>\n",
       "      <td>OTHER OFFENSES</td>\n",
       "      <td>Wednesday</td>\n",
       "      <td>NORTHERN</td>\n",
       "      <td>-122.425892</td>\n",
       "      <td>37.774599</td>\n",
       "      <td>2015</td>\n",
       "      <td>5</td>\n",
       "      <td>13</td>\n",
       "      <td>23</td>\n",
       "      <td>53</td>\n",
       "      <td>spring</td>\n",
       "      <td>evening</td>\n",
       "      <td>0</td>\n",
       "      <td>0</td>\n",
       "      <td>0</td>\n",
       "      <td>1.431561e+09</td>\n",
       "      <td>0</td>\n",
       "    </tr>\n",
       "    <tr>\n",
       "      <th>2</th>\n",
       "      <td>OTHER OFFENSES</td>\n",
       "      <td>Wednesday</td>\n",
       "      <td>NORTHERN</td>\n",
       "      <td>-122.424363</td>\n",
       "      <td>37.800414</td>\n",
       "      <td>2015</td>\n",
       "      <td>5</td>\n",
       "      <td>13</td>\n",
       "      <td>23</td>\n",
       "      <td>33</td>\n",
       "      <td>spring</td>\n",
       "      <td>evening</td>\n",
       "      <td>0</td>\n",
       "      <td>0</td>\n",
       "      <td>0</td>\n",
       "      <td>1.431560e+09</td>\n",
       "      <td>0</td>\n",
       "    </tr>\n",
       "  </tbody>\n",
       "</table>\n",
       "</div>"
      ],
      "text/plain": [
       "         Category  DayOfWeek PdDistrict           X          Y  Year  Month  \\\n",
       "0        WARRANTS  Wednesday   NORTHERN -122.425892  37.774599  2015      5   \n",
       "1  OTHER OFFENSES  Wednesday   NORTHERN -122.425892  37.774599  2015      5   \n",
       "2  OTHER OFFENSES  Wednesday   NORTHERN -122.424363  37.800414  2015      5   \n",
       "\n",
       "   Day  Hour  Minute  Season HourRange  IsDuringBusinessHours  IsWeekend  \\\n",
       "0   13    23      53  spring   evening                      0          0   \n",
       "1   13    23      53  spring   evening                      0          0   \n",
       "2   13    23      33  spring   evening                      0          0   \n",
       "\n",
       "   IsHoliday     EpochTime  IsOnBlock  \n",
       "0          0  1.431561e+09          0  \n",
       "1          0  1.431561e+09          0  \n",
       "2          0  1.431560e+09          0  "
      ]
     },
     "execution_count": 17,
     "metadata": {},
     "output_type": "execute_result"
    }
   ],
   "source": [
    "original = data.copy()\n",
    "original.head(3)"
   ]
  },
  {
   "cell_type": "markdown",
   "id": "56cf8c27",
   "metadata": {},
   "source": [
    "#### Моделиране на данните"
   ]
  },
  {
   "cell_type": "markdown",
   "id": "68768b18",
   "metadata": {},
   "source": [
    "##### Random Forest"
   ]
  },
  {
   "cell_type": "markdown",
   "id": "9e5b2a02",
   "metadata": {},
   "source": [
    "Random Forest алгоритъма се справя добре и без one-hot-encodе-ване на неординални категорийни данни, каквито са PdDistrict, Season, HourRange, но все пак трябва да се encode-нат, защото sckit-learn алгоритъма не може да работи с категорийни данни. Ще използваме LabelEncoder, за да зададем различна числова стойност на категориите на дадена характеристика."
   ]
  },
  {
   "cell_type": "code",
   "execution_count": 16,
   "id": "b6334652",
   "metadata": {},
   "outputs": [],
   "source": [
    "from sklearn.preprocessing import LabelEncoder\n",
    "from sklearn.ensemble import RandomForestClassifier"
   ]
  },
  {
   "cell_type": "code",
   "execution_count": 17,
   "id": "50be9577",
   "metadata": {},
   "outputs": [],
   "source": [
    "data['DayOfWeek'] = LabelEncoder().fit_transform(data['DayOfWeek'])\n",
    "data['PdDistrict'] = LabelEncoder().fit_transform(data['PdDistrict'])\n",
    "data['Season'] = LabelEncoder().fit_transform(data['Season'])\n",
    "data['HourRange'] = LabelEncoder().fit_transform(data['HourRange'])"
   ]
  },
  {
   "cell_type": "markdown",
   "id": "7a48fe32",
   "metadata": {},
   "source": [
    "Ще дефинираме три функции:\n",
    "- за изобразяване на feature importance\n",
    "- за изчисляване на log loss-a\n",
    "- за показване на classification report\n",
    "- за разделяне на множеството данни на train-val-test множества\n",
    "- за намиране на хипер параметри чрез RandomizedSearch (избираме го пред GridSearch, тъй като имаме доста голям dataset от ~ 800 000 samples и използването му ще е доста скъпо от към ресурси)"
   ]
  },
  {
   "cell_type": "code",
   "execution_count": 18,
   "id": "249dd1f7",
   "metadata": {},
   "outputs": [],
   "source": [
    "def random_forest_features(model, X):\n",
    "    importances = model.feature_importances_\n",
    "    std = np.std([model.feature_importances_ for tree in model.estimators_],\n",
    "                 axis=0)\n",
    "    indices = np.argsort(importances)[::-1]\n",
    "\n",
    "    plt.figure(figsize=(10, 10))\n",
    "    plt.title(\"Feature importances\")\n",
    "    plt.bar(range(X.shape[1]), importances[indices], color=\"r\", yerr=std[indices], align=\"center\")\n",
    "    plt.xticks(range(X.shape[1]), X.columns, rotation='vertical')\n",
    "    plt.xlim([-1, X.shape[1]])\n",
    "    plt.show()"
   ]
  },
  {
   "cell_type": "code",
   "execution_count": 19,
   "id": "f9e134c4",
   "metadata": {},
   "outputs": [],
   "source": [
    "from sklearn.metrics import log_loss\n",
    "\n",
    "\n",
    "def log_loss_evaluation(model, X, y):\n",
    "    y_pred_proba = model.predict_proba(X)\n",
    "    return log_loss(y, y_pred_proba)"
   ]
  },
  {
   "cell_type": "code",
   "execution_count": 20,
   "id": "1c4b7ed0",
   "metadata": {},
   "outputs": [],
   "source": [
    "from sklearn.metrics import classification_report, confusion_matrix\n",
    "\n",
    "\n",
    "def classification_report_results(model, X, y):\n",
    "    y_pred = pd.DataFrame(model.predict(X))\n",
    "    return classification_report(y_true=y, y_pred=y_pred, zero_division=0)\n",
    "    # return confusion_matrix(y, y_pred)"
   ]
  },
  {
   "cell_type": "code",
   "execution_count": 21,
   "id": "de9fd1fe",
   "metadata": {},
   "outputs": [],
   "source": [
    "from sklearn.model_selection import train_test_split\n",
    "\n",
    "\n",
    "def train_val_test_split(data):\n",
    "    X = data.drop('Category', axis=1)\n",
    "    y = data['Category']\n",
    "\n",
    "    # Split sets into training and temporary sets (60% train, 40% test)\n",
    "    X_train, X_temp, y_train, y_temp = train_test_split(X, y, test_size=0.4, random_state=0, stratify=y)\n",
    "\n",
    "    # Further split the temporary set into validation and test sets (50% validation, 50% test)\n",
    "    X_val, X_test, y_val, y_test = train_test_split(X_temp, y_temp, test_size=0.5, random_state=0, stratify=y_temp)\n",
    "\n",
    "    return X_train, X_val, X_test, y_train, y_val, y_test"
   ]
  },
  {
   "cell_type": "code",
   "execution_count": 22,
   "id": "a43ae8d1",
   "metadata": {},
   "outputs": [],
   "source": [
    "from sklearn.model_selection import GridSearchCV, RandomizedSearchCV\n",
    "\n",
    "\n",
    "def randomized_search_results(param_grid, n_iter, model, X, y):\n",
    "    # Create GridSearchCV object\n",
    "    # grid_search = GridSearchCV(estimator=model, param_grid=param_grid, scoring='neg_log_loss', cv=3, verbose=1)\n",
    "    random_search = RandomizedSearchCV(estimator=model, param_distributions=param_grid, scoring='neg_log_loss', n_iter=n_iter, cv=3, random_state=42)\n",
    "\n",
    "    # Fit the grid search to the data\n",
    "    random_search.fit(X, y)\n",
    "\n",
    "    # Display the results\n",
    "    return pd.DataFrame(random_search.cv_results_)[['rank_test_score', 'mean_test_score', 'params']].sort_values(by='rank_test_score').head(n_iter)\n"
   ]
  },
  {
   "cell_type": "markdown",
   "id": "641e0d67",
   "metadata": {},
   "source": [
    "Ще изпробваме модела без задаване на хиперпараметри и ще го оценим върху validation set-а, използвайки LogLoss метриката. "
   ]
  },
  {
   "cell_type": "code",
   "execution_count": 52,
   "id": "4d19c8ee",
   "metadata": {},
   "outputs": [],
   "source": [
    "X_train, X_val, X_test, y_train, y_val, y_test = train_val_test_split(data)"
   ]
  },
  {
   "cell_type": "code",
   "execution_count": 53,
   "id": "4ebf97d1",
   "metadata": {},
   "outputs": [
    {
     "data": {
      "text/plain": [
       "RandomForestClassifier(random_state=0)"
      ]
     },
     "execution_count": 53,
     "metadata": {},
     "output_type": "execute_result"
    }
   ],
   "source": [
    "model = RandomForestClassifier(random_state=0)\n",
    "model.fit(X_train, y_train)"
   ]
  },
  {
   "cell_type": "code",
   "execution_count": 55,
   "id": "3298de88",
   "metadata": {},
   "outputs": [
    {
     "name": "stdout",
     "output_type": "stream",
     "text": [
      "train score: 0.44207197954662536\n",
      "validation score:  4.649515884356734\n"
     ]
    }
   ],
   "source": [
    "print(\"train score:\", log_loss_evaluation(model, X_train, y_train))\n",
    "print(\"validation score: \", log_loss_evaluation(model, X_val, y_val))"
   ]
  },
  {
   "cell_type": "markdown",
   "id": "20598f69",
   "metadata": {},
   "source": [
    "Използването на RandomForest без задаване на параметри overfitt-ва изключително много. Ще направим един GridSearch, за да видим дали ще намерим по-добри параметри за n_estimators или max_depth."
   ]
  },
  {
   "cell_type": "code",
   "execution_count": 57,
   "id": "f1520585",
   "metadata": {},
   "outputs": [
    {
     "data": {
      "text/html": [
       "<div>\n",
       "<style scoped>\n",
       "    .dataframe tbody tr th:only-of-type {\n",
       "        vertical-align: middle;\n",
       "    }\n",
       "\n",
       "    .dataframe tbody tr th {\n",
       "        vertical-align: top;\n",
       "    }\n",
       "\n",
       "    .dataframe thead th {\n",
       "        text-align: right;\n",
       "    }\n",
       "</style>\n",
       "<table border=\"1\" class=\"dataframe\">\n",
       "  <thead>\n",
       "    <tr style=\"text-align: right;\">\n",
       "      <th></th>\n",
       "      <th>rank_test_score</th>\n",
       "      <th>mean_test_score</th>\n",
       "      <th>params</th>\n",
       "    </tr>\n",
       "  </thead>\n",
       "  <tbody>\n",
       "    <tr>\n",
       "      <th>4</th>\n",
       "      <td>1</td>\n",
       "      <td>-2.356834</td>\n",
       "      <td>{'n_estimators': 70, 'min_samples_split': 2, '...</td>\n",
       "    </tr>\n",
       "    <tr>\n",
       "      <th>9</th>\n",
       "      <td>2</td>\n",
       "      <td>-2.407715</td>\n",
       "      <td>{'n_estimators': 10, 'min_samples_split': 2, '...</td>\n",
       "    </tr>\n",
       "    <tr>\n",
       "      <th>8</th>\n",
       "      <td>3</td>\n",
       "      <td>-2.426268</td>\n",
       "      <td>{'n_estimators': 50, 'min_samples_split': 50, ...</td>\n",
       "    </tr>\n",
       "    <tr>\n",
       "      <th>0</th>\n",
       "      <td>4</td>\n",
       "      <td>-2.432612</td>\n",
       "      <td>{'n_estimators': 10, 'min_samples_split': 10, ...</td>\n",
       "    </tr>\n",
       "    <tr>\n",
       "      <th>1</th>\n",
       "      <td>5</td>\n",
       "      <td>-2.434250</td>\n",
       "      <td>{'n_estimators': 10, 'min_samples_split': 50, ...</td>\n",
       "    </tr>\n",
       "    <tr>\n",
       "      <th>3</th>\n",
       "      <td>6</td>\n",
       "      <td>-2.469174</td>\n",
       "      <td>{'n_estimators': 70, 'min_samples_split': 20, ...</td>\n",
       "    </tr>\n",
       "    <tr>\n",
       "      <th>7</th>\n",
       "      <td>7</td>\n",
       "      <td>-2.519984</td>\n",
       "      <td>{'n_estimators': 10, 'min_samples_split': 100,...</td>\n",
       "    </tr>\n",
       "    <tr>\n",
       "      <th>5</th>\n",
       "      <td>8</td>\n",
       "      <td>-2.581823</td>\n",
       "      <td>{'n_estimators': 10, 'min_samples_split': 5, '...</td>\n",
       "    </tr>\n",
       "    <tr>\n",
       "      <th>2</th>\n",
       "      <td>9</td>\n",
       "      <td>-2.583089</td>\n",
       "      <td>{'n_estimators': 100, 'min_samples_split': 50,...</td>\n",
       "    </tr>\n",
       "    <tr>\n",
       "      <th>6</th>\n",
       "      <td>10</td>\n",
       "      <td>-2.584418</td>\n",
       "      <td>{'n_estimators': 70, 'min_samples_split': 2, '...</td>\n",
       "    </tr>\n",
       "  </tbody>\n",
       "</table>\n",
       "</div>"
      ],
      "text/plain": [
       "   rank_test_score  mean_test_score  \\\n",
       "4                1        -2.356834   \n",
       "9                2        -2.407715   \n",
       "8                3        -2.426268   \n",
       "0                4        -2.432612   \n",
       "1                5        -2.434250   \n",
       "3                6        -2.469174   \n",
       "7                7        -2.519984   \n",
       "5                8        -2.581823   \n",
       "2                9        -2.583089   \n",
       "6               10        -2.584418   \n",
       "\n",
       "                                              params  \n",
       "4  {'n_estimators': 70, 'min_samples_split': 2, '...  \n",
       "9  {'n_estimators': 10, 'min_samples_split': 2, '...  \n",
       "8  {'n_estimators': 50, 'min_samples_split': 50, ...  \n",
       "0  {'n_estimators': 10, 'min_samples_split': 10, ...  \n",
       "1  {'n_estimators': 10, 'min_samples_split': 50, ...  \n",
       "3  {'n_estimators': 70, 'min_samples_split': 20, ...  \n",
       "7  {'n_estimators': 10, 'min_samples_split': 100,...  \n",
       "5  {'n_estimators': 10, 'min_samples_split': 5, '...  \n",
       "2  {'n_estimators': 100, 'min_samples_split': 50,...  \n",
       "6  {'n_estimators': 70, 'min_samples_split': 2, '...  "
      ]
     },
     "execution_count": 57,
     "metadata": {},
     "output_type": "execute_result"
    }
   ],
   "source": [
    "param_grid = {\n",
    "    'n_estimators': [10, 30, 50, 70, 100],\n",
    "    'max_depth': [2, 4, 6, 8, 10, 12, 15, 20],\n",
    "    'min_samples_split': [2, 5, 10, 20, 50, 100],\n",
    "    'max_features': ['auto', 'sqrt', 'log2']\n",
    "}\n",
    "\n",
    "# Display the results\n",
    "results = randomized_search_results(param_grid, 10, model, X_train, y_train)\n",
    "results"
   ]
  },
  {
   "cell_type": "markdown",
   "id": "ca20815e",
   "metadata": {},
   "source": [
    "Да погледнем по-подробно параметрите на първите 3 най-добри резултата (с най-малък log loss)."
   ]
  },
  {
   "cell_type": "code",
   "execution_count": 62,
   "id": "577f8ef3",
   "metadata": {},
   "outputs": [
    {
     "name": "stdout",
     "output_type": "stream",
     "text": [
      "{'n_estimators': 70, 'min_samples_split': 2, 'max_features': 'auto', 'max_depth': 12}\n",
      "{'n_estimators': 10, 'min_samples_split': 2, 'max_features': 'sqrt', 'max_depth': 10}\n",
      "{'n_estimators': 50, 'min_samples_split': 50, 'max_features': 'auto', 'max_depth': 8}\n"
     ]
    }
   ],
   "source": [
    "for i in range(3):\n",
    "    print(results.iloc[i]['params'])"
   ]
  },
  {
   "cell_type": "code",
   "execution_count": 63,
   "id": "ee376a11",
   "metadata": {},
   "outputs": [],
   "source": [
    "del results"
   ]
  },
  {
   "cell_type": "markdown",
   "id": "41370491",
   "metadata": {},
   "source": [
    "Нека тренираме модел с параметрите на най-добрия резултат и да го оценим."
   ]
  },
  {
   "cell_type": "code",
   "execution_count": 64,
   "id": "b6efb18e",
   "metadata": {},
   "outputs": [
    {
     "data": {
      "text/plain": [
       "RandomForestClassifier(max_depth=12, n_estimators=70, random_state=0)"
      ]
     },
     "execution_count": 64,
     "metadata": {},
     "output_type": "execute_result"
    }
   ],
   "source": [
    "model = RandomForestClassifier(random_state=0, max_depth=12, n_estimators=70, min_samples_split=2)\n",
    "model.fit(X_train, y_train)"
   ]
  },
  {
   "cell_type": "code",
   "execution_count": 65,
   "id": "5f72c84d",
   "metadata": {},
   "outputs": [
    {
     "name": "stdout",
     "output_type": "stream",
     "text": [
      "train score: 2.2243808060354633\n",
      "validation score:  2.352974076408288\n"
     ]
    }
   ],
   "source": [
    "print(\"train score:\", log_loss_evaluation(model, X_train, y_train))\n",
    "print(\"validation score: \", log_loss_evaluation(model, X_val, y_val))"
   ]
  },
  {
   "cell_type": "markdown",
   "id": "f994853b",
   "metadata": {},
   "source": [
    "Разликата между log loss-a на тренировъчното и валидационното множество е ~0.13, което не е знак за overfitting при положение, но нека видим как модела се справя и параметрите от втория най-добър резултат."
   ]
  },
  {
   "cell_type": "code",
   "execution_count": 71,
   "id": "f9bec93a",
   "metadata": {},
   "outputs": [
    {
     "data": {
      "text/plain": [
       "RandomForestClassifier(max_depth=10, max_features='sqrt', n_estimators=10,\n",
       "                       random_state=0)"
      ]
     },
     "execution_count": 71,
     "metadata": {},
     "output_type": "execute_result"
    }
   ],
   "source": [
    "model = RandomForestClassifier(random_state=0, max_depth=10, n_estimators=10, min_samples_split=2, max_features='sqrt')\n",
    "model.fit(X_train, y_train)"
   ]
  },
  {
   "cell_type": "code",
   "execution_count": 69,
   "id": "1303b075",
   "metadata": {},
   "outputs": [
    {
     "name": "stdout",
     "output_type": "stream",
     "text": [
      "train score: 2.348193866535017\n",
      "validation score:  2.3974547802613646\n"
     ]
    }
   ],
   "source": [
    "print(\"train score:\", log_loss_evaluation(model, X_train, y_train))\n",
    "print(\"validation score: \", log_loss_evaluation(model, X_val, y_val))"
   ]
  },
  {
   "cell_type": "markdown",
   "id": "0d8518a3",
   "metadata": {},
   "source": [
    "Тук разликата в log loss-a е сравнително по-малка - ~0.05. Тук съвсем няма overfitting, но модела се справя малко по-зле.  \n",
    "Нека погледнем classification report-а за модела."
   ]
  },
  {
   "cell_type": "code",
   "execution_count": 104,
   "id": "ceb650fa",
   "metadata": {},
   "outputs": [
    {
     "name": "stdout",
     "output_type": "stream",
     "text": [
      "                             precision    recall  f1-score   support\n",
      "\n",
      "                      ARSON       0.00      0.00      0.00       303\n",
      "                    ASSAULT       0.17      0.13      0.15     15374\n",
      "                 BAD CHECKS       0.00      0.00      0.00        81\n",
      "                    BRIBERY       0.00      0.00      0.00        58\n",
      "                   BURGLARY       0.19      0.01      0.01      7351\n",
      "         DISORDERLY CONDUCT       0.26      0.01      0.02       863\n",
      "DRIVING UNDER THE INFLUENCE       0.00      0.00      0.00       454\n",
      "              DRUG/NARCOTIC       0.35      0.31      0.33     10794\n",
      "                DRUNKENNESS       0.00      0.00      0.00       856\n",
      "               EMBEZZLEMENT       0.00      0.00      0.00       233\n",
      "                  EXTORTION       0.00      0.00      0.00        51\n",
      "            FAMILY OFFENSES       0.00      0.00      0.00        98\n",
      "     FORGERY/COUNTERFEITING       0.00      0.00      0.00      2122\n",
      "                      FRAUD       0.50      0.00      0.00      3336\n",
      "                   GAMBLING       0.00      0.00      0.00        29\n",
      "                 KIDNAPPING       0.00      0.00      0.00       468\n",
      "              LARCENY/THEFT       0.29      0.79      0.42     34977\n",
      "                LIQUOR LAWS       0.00      0.00      0.00       381\n",
      "                  LOITERING       0.00      0.00      0.00       245\n",
      "             MISSING PERSON       0.48      0.08      0.14      5198\n",
      "               NON-CRIMINAL       0.23      0.07      0.11     18460\n",
      "             OTHER OFFENSES       0.27      0.46      0.34     25233\n",
      "    PORNOGRAPHY/OBSCENE MAT       0.00      0.00      0.00         5\n",
      "               PROSTITUTION       0.58      0.27      0.37      1497\n",
      "          RECOVERED VEHICLE       0.00      0.00      0.00       627\n",
      "                    ROBBERY       0.25      0.00      0.00      4600\n",
      "                    RUNAWAY       0.00      0.00      0.00       389\n",
      "            SECONDARY CODES       0.00      0.00      0.00      1997\n",
      "      SEX OFFENSES FORCIBLE       0.00      0.00      0.00       877\n",
      "  SEX OFFENSES NON FORCIBLE       0.00      0.00      0.00        30\n",
      "            STOLEN PROPERTY       0.00      0.00      0.00       908\n",
      "                    SUICIDE       0.00      0.00      0.00       102\n",
      "             SUSPICIOUS OCC       0.33      0.00      0.00      6282\n",
      "                       TREA       0.00      0.00      0.00         1\n",
      "                   TRESPASS       0.23      0.01      0.02      1465\n",
      "                  VANDALISM       0.19      0.00      0.00      8945\n",
      "              VEHICLE THEFT       0.28      0.19      0.23     10754\n",
      "                   WARRANTS       0.07      0.00      0.00      8441\n",
      "                WEAPON LAWS       0.00      0.00      0.00      1711\n",
      "\n",
      "                   accuracy                           0.28    175596\n",
      "                  macro avg       0.12      0.06      0.05    175596\n",
      "               weighted avg       0.24      0.28      0.20    175596\n",
      "\n"
     ]
    }
   ],
   "source": [
    "print(classification_report_results(model, X_val, y_val))"
   ]
  },
  {
   "cell_type": "markdown",
   "id": "c5c0f7bd",
   "metadata": {},
   "source": [
    "Разглеждайки classification report-а, се наблюдава, че за доста от класовете, най-вече тези от minority-то, precision и recall метриките са 0, което означава, че модела не се е справил в предсказването на категориите с по-малък сет от данни."
   ]
  },
  {
   "cell_type": "code",
   "execution_count": 72,
   "id": "0bcfc523",
   "metadata": {},
   "outputs": [
    {
     "data": {
      "image/png": "[encoded data removed]",
      "text/plain": [
       "<Figure size 720x720 with 1 Axes>"
      ]
     },
     "metadata": {},
     "output_type": "display_data"
    }
   ],
   "source": [
    "random_forest_features(model, X_val)"
   ]
  },
  {
   "cell_type": "markdown",
   "id": "91e441c4",
   "metadata": {},
   "source": [
    "Нека изпробваме алгоритъма само без feature-ите, които добавихме като сезон, часови диапазон и т.н, тъй като те изглежда нямат голямо значение в модела, използващ всички feature-и.  "
   ]
  },
  {
   "cell_type": "code",
   "execution_count": 24,
   "id": "54acc74f",
   "metadata": {},
   "outputs": [],
   "source": [
    "data_selection = data.drop(columns=['Season', 'HourRange', 'IsDuringBusinessHours', 'IsWeekend', 'IsHoliday'])\n",
    "X_train, X_val, X_test, y_train, y_val, y_test = train_val_test_split(data_selection)"
   ]
  },
  {
   "cell_type": "code",
   "execution_count": 25,
   "id": "c394b8aa",
   "metadata": {},
   "outputs": [],
   "source": [
    "del data_selection, X_val, X_test, y_val, y_test"
   ]
  },
  {
   "cell_type": "code",
   "execution_count": 26,
   "id": "0bf72f19",
   "metadata": {},
   "outputs": [
    {
     "data": {
      "text/plain": [
       "RandomForestClassifier(random_state=0)"
      ]
     },
     "execution_count": 26,
     "metadata": {},
     "output_type": "execute_result"
    }
   ],
   "source": [
    "model = RandomForestClassifier(random_state=0)\n",
    "model.fit(X_train, y_train)"
   ]
  },
  {
   "cell_type": "code",
   "execution_count": 29,
   "id": "1b28fe19",
   "metadata": {},
   "outputs": [
    {
     "name": "stdout",
     "output_type": "stream",
     "text": [
      "train score:  0.440942007304384\n",
      "validation score:  4.701870795602136\n"
     ]
    }
   ],
   "source": [
    "data_selection = data.drop(columns=['Season', 'HourRange', 'IsDuringBusinessHours', 'IsWeekend', 'IsHoliday'])\n",
    "X_train, X_val, X_test, y_train, y_val, y_test = train_val_test_split(data_selection)\n",
    "del data_selection, X_test, y_test\n",
    "\n",
    "print(\"train score: \", log_loss_evaluation(model, X_train, y_train))\n",
    "print(\"validation score: \", log_loss_evaluation(model, X_val, y_val))"
   ]
  },
  {
   "cell_type": "markdown",
   "id": "a95d0de9",
   "metadata": {},
   "source": [
    "Без хипер параметри този модел също overfit-ва изключително много. Затова и тук правим RandomizedSearch."
   ]
  },
  {
   "cell_type": "code",
   "execution_count": 31,
   "id": "c3d11623",
   "metadata": {},
   "outputs": [
    {
     "data": {
      "text/html": [
       "<div>\n",
       "<style scoped>\n",
       "    .dataframe tbody tr th:only-of-type {\n",
       "        vertical-align: middle;\n",
       "    }\n",
       "\n",
       "    .dataframe tbody tr th {\n",
       "        vertical-align: top;\n",
       "    }\n",
       "\n",
       "    .dataframe thead th {\n",
       "        text-align: right;\n",
       "    }\n",
       "</style>\n",
       "<table border=\"1\" class=\"dataframe\">\n",
       "  <thead>\n",
       "    <tr style=\"text-align: right;\">\n",
       "      <th></th>\n",
       "      <th>rank_test_score</th>\n",
       "      <th>mean_test_score</th>\n",
       "      <th>params</th>\n",
       "    </tr>\n",
       "  </thead>\n",
       "  <tbody>\n",
       "    <tr>\n",
       "      <th>4</th>\n",
       "      <td>1</td>\n",
       "      <td>-2.351461</td>\n",
       "      <td>{'n_estimators': 70, 'min_samples_split': 2, '...</td>\n",
       "    </tr>\n",
       "    <tr>\n",
       "      <th>9</th>\n",
       "      <td>2</td>\n",
       "      <td>-2.400385</td>\n",
       "      <td>{'n_estimators': 10, 'min_samples_split': 2, '...</td>\n",
       "    </tr>\n",
       "    <tr>\n",
       "      <th>8</th>\n",
       "      <td>3</td>\n",
       "      <td>-2.421141</td>\n",
       "      <td>{'n_estimators': 50, 'min_samples_split': 50, ...</td>\n",
       "    </tr>\n",
       "    <tr>\n",
       "      <th>0</th>\n",
       "      <td>4</td>\n",
       "      <td>-2.425836</td>\n",
       "      <td>{'n_estimators': 10, 'min_samples_split': 10, ...</td>\n",
       "    </tr>\n",
       "    <tr>\n",
       "      <th>1</th>\n",
       "      <td>5</td>\n",
       "      <td>-2.429335</td>\n",
       "      <td>{'n_estimators': 10, 'min_samples_split': 50, ...</td>\n",
       "    </tr>\n",
       "    <tr>\n",
       "      <th>3</th>\n",
       "      <td>6</td>\n",
       "      <td>-2.466086</td>\n",
       "      <td>{'n_estimators': 70, 'min_samples_split': 20, ...</td>\n",
       "    </tr>\n",
       "    <tr>\n",
       "      <th>7</th>\n",
       "      <td>7</td>\n",
       "      <td>-2.523768</td>\n",
       "      <td>{'n_estimators': 10, 'min_samples_split': 100,...</td>\n",
       "    </tr>\n",
       "    <tr>\n",
       "      <th>6</th>\n",
       "      <td>8</td>\n",
       "      <td>-2.581215</td>\n",
       "      <td>{'n_estimators': 70, 'min_samples_split': 2, '...</td>\n",
       "    </tr>\n",
       "    <tr>\n",
       "      <th>2</th>\n",
       "      <td>9</td>\n",
       "      <td>-2.581606</td>\n",
       "      <td>{'n_estimators': 100, 'min_samples_split': 50,...</td>\n",
       "    </tr>\n",
       "    <tr>\n",
       "      <th>5</th>\n",
       "      <td>10</td>\n",
       "      <td>-2.586903</td>\n",
       "      <td>{'n_estimators': 10, 'min_samples_split': 5, '...</td>\n",
       "    </tr>\n",
       "  </tbody>\n",
       "</table>\n",
       "</div>"
      ],
      "text/plain": [
       "   rank_test_score  mean_test_score  \\\n",
       "4                1        -2.351461   \n",
       "9                2        -2.400385   \n",
       "8                3        -2.421141   \n",
       "0                4        -2.425836   \n",
       "1                5        -2.429335   \n",
       "3                6        -2.466086   \n",
       "7                7        -2.523768   \n",
       "6                8        -2.581215   \n",
       "2                9        -2.581606   \n",
       "5               10        -2.586903   \n",
       "\n",
       "                                              params  \n",
       "4  {'n_estimators': 70, 'min_samples_split': 2, '...  \n",
       "9  {'n_estimators': 10, 'min_samples_split': 2, '...  \n",
       "8  {'n_estimators': 50, 'min_samples_split': 50, ...  \n",
       "0  {'n_estimators': 10, 'min_samples_split': 10, ...  \n",
       "1  {'n_estimators': 10, 'min_samples_split': 50, ...  \n",
       "3  {'n_estimators': 70, 'min_samples_split': 20, ...  \n",
       "7  {'n_estimators': 10, 'min_samples_split': 100,...  \n",
       "6  {'n_estimators': 70, 'min_samples_split': 2, '...  \n",
       "2  {'n_estimators': 100, 'min_samples_split': 50,...  \n",
       "5  {'n_estimators': 10, 'min_samples_split': 5, '...  "
      ]
     },
     "execution_count": 31,
     "metadata": {},
     "output_type": "execute_result"
    }
   ],
   "source": [
    "# Define the parameter grid to search\n",
    "param_grid = {\n",
    "    'n_estimators': [10, 30, 50, 70, 100],\n",
    "    'max_depth': [2, 4, 6, 8, 10, 12, 15, 20],\n",
    "    'min_samples_split': [2, 5, 10, 20, 50, 100],\n",
    "    'max_features': ['auto', 'sqrt', 'log2']\n",
    "}\n",
    "\n",
    "model = RandomForestClassifier(random_state=0)\n",
    "\n",
    "# Display the results\n",
    "results = randomized_search_results(param_grid, 10, model, X_train, y_train)\n",
    "results"
   ]
  },
  {
   "cell_type": "code",
   "execution_count": 32,
   "id": "51e814ca",
   "metadata": {},
   "outputs": [
    {
     "name": "stdout",
     "output_type": "stream",
     "text": [
      "{'n_estimators': 70, 'min_samples_split': 2, 'max_features': 'auto', 'max_depth': 12}\n",
      "{'n_estimators': 10, 'min_samples_split': 2, 'max_features': 'sqrt', 'max_depth': 10}\n",
      "{'n_estimators': 50, 'min_samples_split': 50, 'max_features': 'auto', 'max_depth': 8}\n"
     ]
    }
   ],
   "source": [
    "for i in range(3):\n",
    "    print(results.iloc[i]['params'])"
   ]
  },
  {
   "cell_type": "code",
   "execution_count": 33,
   "id": "2f50490b",
   "metadata": {},
   "outputs": [],
   "source": [
    "del results"
   ]
  },
  {
   "cell_type": "code",
   "execution_count": 34,
   "id": "62073725",
   "metadata": {},
   "outputs": [
    {
     "data": {
      "text/plain": [
       "RandomForestClassifier(max_depth=12, n_estimators=70, random_state=0)"
      ]
     },
     "execution_count": 34,
     "metadata": {},
     "output_type": "execute_result"
    }
   ],
   "source": [
    "model = RandomForestClassifier(random_state=0, max_depth=12, n_estimators=70, min_samples_split=2)\n",
    "model.fit(X_train, y_train)"
   ]
  },
  {
   "cell_type": "code",
   "execution_count": 35,
   "id": "f61d45d9",
   "metadata": {},
   "outputs": [
    {
     "name": "stdout",
     "output_type": "stream",
     "text": [
      "train score:  2.2163012923197973\n",
      "validation score:  2.345499733367989\n"
     ]
    }
   ],
   "source": [
    "print(\"train score: \", log_loss_evaluation(model, X_train, y_train))\n",
    "print(\"validation score: \", log_loss_evaluation(model, X_val, y_val))"
   ]
  },
  {
   "cell_type": "code",
   "execution_count": 36,
   "id": "ba7a77e3",
   "metadata": {},
   "outputs": [
    {
     "name": "stdout",
     "output_type": "stream",
     "text": [
      "                             precision    recall  f1-score   support\n",
      "\n",
      "                      ARSON       0.00      0.00      0.00       303\n",
      "                    ASSAULT       0.18      0.18      0.18     15374\n",
      "                 BAD CHECKS       0.00      0.00      0.00        81\n",
      "                    BRIBERY       0.00      0.00      0.00        58\n",
      "                   BURGLARY       0.26      0.00      0.01      7351\n",
      "         DISORDERLY CONDUCT       0.10      0.01      0.01       863\n",
      "DRIVING UNDER THE INFLUENCE       0.00      0.00      0.00       454\n",
      "              DRUG/NARCOTIC       0.34      0.36      0.35     10794\n",
      "                DRUNKENNESS       0.00      0.00      0.00       856\n",
      "               EMBEZZLEMENT       0.00      0.00      0.00       233\n",
      "                  EXTORTION       0.00      0.00      0.00        51\n",
      "            FAMILY OFFENSES       0.00      0.00      0.00        98\n",
      "     FORGERY/COUNTERFEITING       0.11      0.00      0.00      2122\n",
      "                      FRAUD       0.32      0.01      0.01      3336\n",
      "                   GAMBLING       0.00      0.00      0.00        29\n",
      "                 KIDNAPPING       0.00      0.00      0.00       468\n",
      "              LARCENY/THEFT       0.30      0.80      0.43     34977\n",
      "                LIQUOR LAWS       0.00      0.00      0.00       381\n",
      "                  LOITERING       0.00      0.00      0.00       245\n",
      "             MISSING PERSON       0.55      0.19      0.28      5198\n",
      "               NON-CRIMINAL       0.25      0.10      0.14     18460\n",
      "             OTHER OFFENSES       0.30      0.43      0.35     25233\n",
      "    PORNOGRAPHY/OBSCENE MAT       0.00      0.00      0.00         5\n",
      "               PROSTITUTION       0.61      0.51      0.55      1497\n",
      "          RECOVERED VEHICLE       0.00      0.00      0.00       627\n",
      "                    ROBBERY       0.00      0.00      0.00      4600\n",
      "                    RUNAWAY       0.00      0.00      0.00       389\n",
      "            SECONDARY CODES       0.00      0.00      0.00      1997\n",
      "      SEX OFFENSES FORCIBLE       0.00      0.00      0.00       877\n",
      "  SEX OFFENSES NON FORCIBLE       0.00      0.00      0.00        30\n",
      "            STOLEN PROPERTY       0.00      0.00      0.00       908\n",
      "                    SUICIDE       0.00      0.00      0.00       102\n",
      "             SUSPICIOUS OCC       0.00      0.00      0.00      6282\n",
      "                       TREA       0.00      0.00      0.00         1\n",
      "                   TRESPASS       0.18      0.02      0.03      1465\n",
      "                  VANDALISM       0.15      0.00      0.01      8945\n",
      "              VEHICLE THEFT       0.30      0.22      0.25     10754\n",
      "                   WARRANTS       0.38      0.00      0.00      8441\n",
      "                WEAPON LAWS       0.33      0.00      0.00      1711\n",
      "\n",
      "                   accuracy                           0.29    175596\n",
      "                  macro avg       0.12      0.07      0.07    175596\n",
      "               weighted avg       0.25      0.29      0.22    175596\n",
      "\n"
     ]
    }
   ],
   "source": [
    "print(classification_report_results(model, X_val, y_val))"
   ]
  },
  {
   "cell_type": "markdown",
   "id": "d36264fb",
   "metadata": {},
   "source": [
    "Този модел няма голяма разлика с горния - precision и recall-a за minority категориите е нулев, което показва, че не генерализира добре.  \n",
    "Нека изпробваме модела и само с feature-ите, които добавихме, анализирайки датата."
   ]
  },
  {
   "cell_type": "code",
   "execution_count": 25,
   "id": "141a088c",
   "metadata": {},
   "outputs": [],
   "source": [
    "data_selection = data.drop(columns=['Hour', 'Minute', 'Month', 'EpochTime'])\n",
    "X_train, X_val, X_test, y_train, y_val, y_test = train_val_test_split(data_selection)"
   ]
  },
  {
   "cell_type": "code",
   "execution_count": 26,
   "id": "485a40e2",
   "metadata": {},
   "outputs": [],
   "source": [
    "del data_selection, X_val, X_test, y_val, y_test"
   ]
  },
  {
   "cell_type": "code",
   "execution_count": 27,
   "id": "caa06af2",
   "metadata": {},
   "outputs": [
    {
     "data": {
      "text/plain": [
       "RandomForestClassifier(random_state=0)"
      ]
     },
     "execution_count": 27,
     "metadata": {},
     "output_type": "execute_result"
    }
   ],
   "source": [
    "model = RandomForestClassifier(random_state=0)\n",
    "model.fit(X_train, y_train)"
   ]
  },
  {
   "cell_type": "code",
   "execution_count": 28,
   "id": "00454595",
   "metadata": {},
   "outputs": [
    {
     "name": "stdout",
     "output_type": "stream",
     "text": [
      "train score:  0.46171669495718615\n",
      "validation score:  5.5404305663884585\n"
     ]
    }
   ],
   "source": [
    "data_selection = data.drop(columns=['Hour', 'Minute', 'Month', 'EpochTime'])\n",
    "X_train, X_val, X_test, y_train, y_val, y_test = train_val_test_split(data_selection)\n",
    "del data_selection, X_test, y_test\n",
    "\n",
    "print(\"train score: \", log_loss_evaluation(model, X_train, y_train))\n",
    "print(\"validation score: \", log_loss_evaluation(model, X_val, y_val))"
   ]
  },
  {
   "cell_type": "markdown",
   "id": "87a1d705",
   "metadata": {},
   "source": [
    "И този модел overfit-ва без настроени хиперпараметри. И за него правим RandomizedSearch."
   ]
  },
  {
   "cell_type": "code",
   "execution_count": 30,
   "id": "5e9f723f",
   "metadata": {},
   "outputs": [
    {
     "data": {
      "text/html": [
       "<div>\n",
       "<style scoped>\n",
       "    .dataframe tbody tr th:only-of-type {\n",
       "        vertical-align: middle;\n",
       "    }\n",
       "\n",
       "    .dataframe tbody tr th {\n",
       "        vertical-align: top;\n",
       "    }\n",
       "\n",
       "    .dataframe thead th {\n",
       "        text-align: right;\n",
       "    }\n",
       "</style>\n",
       "<table border=\"1\" class=\"dataframe\">\n",
       "  <thead>\n",
       "    <tr style=\"text-align: right;\">\n",
       "      <th></th>\n",
       "      <th>rank_test_score</th>\n",
       "      <th>mean_test_score</th>\n",
       "      <th>params</th>\n",
       "    </tr>\n",
       "  </thead>\n",
       "  <tbody>\n",
       "    <tr>\n",
       "      <th>6</th>\n",
       "      <td>1</td>\n",
       "      <td>-2.424118</td>\n",
       "      <td>{'n_estimators': 200, 'min_samples_split': 10,...</td>\n",
       "    </tr>\n",
       "    <tr>\n",
       "      <th>2</th>\n",
       "      <td>2</td>\n",
       "      <td>-2.425210</td>\n",
       "      <td>{'n_estimators': 200, 'min_samples_split': 20,...</td>\n",
       "    </tr>\n",
       "    <tr>\n",
       "      <th>9</th>\n",
       "      <td>3</td>\n",
       "      <td>-2.433129</td>\n",
       "      <td>{'n_estimators': 30, 'min_samples_split': 10, ...</td>\n",
       "    </tr>\n",
       "    <tr>\n",
       "      <th>8</th>\n",
       "      <td>4</td>\n",
       "      <td>-2.452946</td>\n",
       "      <td>{'n_estimators': 200, 'min_samples_split': 10,...</td>\n",
       "    </tr>\n",
       "    <tr>\n",
       "      <th>7</th>\n",
       "      <td>5</td>\n",
       "      <td>-2.520582</td>\n",
       "      <td>{'n_estimators': 100, 'min_samples_split': 5, ...</td>\n",
       "    </tr>\n",
       "    <tr>\n",
       "      <th>5</th>\n",
       "      <td>6</td>\n",
       "      <td>-2.520877</td>\n",
       "      <td>{'n_estimators': 200, 'min_samples_split': 5, ...</td>\n",
       "    </tr>\n",
       "    <tr>\n",
       "      <th>3</th>\n",
       "      <td>7</td>\n",
       "      <td>-2.520906</td>\n",
       "      <td>{'n_estimators': 70, 'min_samples_split': 20, ...</td>\n",
       "    </tr>\n",
       "    <tr>\n",
       "      <th>1</th>\n",
       "      <td>8</td>\n",
       "      <td>-2.559857</td>\n",
       "      <td>{'n_estimators': 10, 'min_samples_split': 2, '...</td>\n",
       "    </tr>\n",
       "    <tr>\n",
       "      <th>0</th>\n",
       "      <td>9</td>\n",
       "      <td>-2.563660</td>\n",
       "      <td>{'n_estimators': 10, 'min_samples_split': 20, ...</td>\n",
       "    </tr>\n",
       "    <tr>\n",
       "      <th>4</th>\n",
       "      <td>10</td>\n",
       "      <td>-2.609841</td>\n",
       "      <td>{'n_estimators': 200, 'min_samples_split': 20,...</td>\n",
       "    </tr>\n",
       "  </tbody>\n",
       "</table>\n",
       "</div>"
      ],
      "text/plain": [
       "   rank_test_score  mean_test_score  \\\n",
       "6                1        -2.424118   \n",
       "2                2        -2.425210   \n",
       "9                3        -2.433129   \n",
       "8                4        -2.452946   \n",
       "7                5        -2.520582   \n",
       "5                6        -2.520877   \n",
       "3                7        -2.520906   \n",
       "1                8        -2.559857   \n",
       "0                9        -2.563660   \n",
       "4               10        -2.609841   \n",
       "\n",
       "                                              params  \n",
       "6  {'n_estimators': 200, 'min_samples_split': 10,...  \n",
       "2  {'n_estimators': 200, 'min_samples_split': 20,...  \n",
       "9  {'n_estimators': 30, 'min_samples_split': 10, ...  \n",
       "8  {'n_estimators': 200, 'min_samples_split': 10,...  \n",
       "7  {'n_estimators': 100, 'min_samples_split': 5, ...  \n",
       "5  {'n_estimators': 200, 'min_samples_split': 5, ...  \n",
       "3  {'n_estimators': 70, 'min_samples_split': 20, ...  \n",
       "1  {'n_estimators': 10, 'min_samples_split': 2, '...  \n",
       "0  {'n_estimators': 10, 'min_samples_split': 20, ...  \n",
       "4  {'n_estimators': 200, 'min_samples_split': 20,...  "
      ]
     },
     "execution_count": 30,
     "metadata": {},
     "output_type": "execute_result"
    }
   ],
   "source": [
    "param_grid = {\n",
    "    'n_estimators': [10, 30, 50, 70, 100, 200],\n",
    "    'max_depth': [2, 4, 6, 8, 10, 12, 15, 20],\n",
    "    'min_samples_split': [2, 5, 10, 20, 50, 100],\n",
    "    'max_features': ['auto', 'sqrt', 'log2']\n",
    "}\n",
    "\n",
    "# del X_val, y_val\n",
    "model = RandomForestClassifier(random_state=0)\n",
    "\n",
    "# Display the results\n",
    "results = randomized_search_results(param_grid, 10, model, X_train, y_train)\n",
    "results"
   ]
  },
  {
   "cell_type": "code",
   "execution_count": 31,
   "id": "7465e90e",
   "metadata": {},
   "outputs": [
    {
     "name": "stdout",
     "output_type": "stream",
     "text": [
      "{'n_estimators': 200, 'min_samples_split': 10, 'max_features': 'sqrt', 'max_depth': 12}\n",
      "{'n_estimators': 200, 'min_samples_split': 20, 'max_features': 'log2', 'max_depth': 12}\n",
      "{'n_estimators': 30, 'min_samples_split': 10, 'max_features': 'log2', 'max_depth': 12}\n",
      "{'n_estimators': 200, 'min_samples_split': 10, 'max_features': 'sqrt', 'max_depth': 10}\n",
      "{'n_estimators': 100, 'min_samples_split': 5, 'max_features': 'log2', 'max_depth': 6}\n",
      "{'n_estimators': 200, 'min_samples_split': 5, 'max_features': 'log2', 'max_depth': 6}\n",
      "{'n_estimators': 70, 'min_samples_split': 20, 'max_features': 'log2', 'max_depth': 6}\n",
      "{'n_estimators': 10, 'min_samples_split': 2, 'max_features': 'log2', 'max_depth': 15}\n",
      "{'n_estimators': 10, 'min_samples_split': 20, 'max_features': 'log2', 'max_depth': 4}\n",
      "{'n_estimators': 200, 'min_samples_split': 20, 'max_features': 'auto', 'max_depth': 2}\n"
     ]
    }
   ],
   "source": [
    "for i in range(10):\n",
    "    print(results.iloc[i]['params'])"
   ]
  },
  {
   "cell_type": "markdown",
   "id": "688fc327",
   "metadata": {},
   "source": [
    "Нека пробваме модела с {'n_estimators': 30, 'min_samples_split': 10, 'max_features': 'log2', 'max_depth': 12}, тъй като разликата в log loss-a с най-добрия резултат не е голяма (~0,01), a използва доста по-малко дървета."
   ]
  },
  {
   "cell_type": "code",
   "execution_count": 32,
   "id": "7ad62221",
   "metadata": {},
   "outputs": [],
   "source": [
    "del results"
   ]
  },
  {
   "cell_type": "code",
   "execution_count": 33,
   "id": "3edae809",
   "metadata": {},
   "outputs": [
    {
     "data": {
      "text/plain": [
       "RandomForestClassifier(max_depth=12, max_features='log2', min_samples_split=10,\n",
       "                       n_estimators=30, random_state=0)"
      ]
     },
     "execution_count": 33,
     "metadata": {},
     "output_type": "execute_result"
    }
   ],
   "source": [
    "model = RandomForestClassifier(random_state=0, max_depth=12, n_estimators=30, min_samples_split=10, max_features='log2')\n",
    "model.fit(X_train, y_train)"
   ]
  },
  {
   "cell_type": "code",
   "execution_count": 34,
   "id": "c3929f44",
   "metadata": {},
   "outputs": [
    {
     "name": "stdout",
     "output_type": "stream",
     "text": [
      "train score:  2.3179143790328136\n",
      "validation score:  2.4266910031964004\n"
     ]
    }
   ],
   "source": [
    "data_selection = data.drop(columns=['Hour', 'Minute', 'Month', 'EpochTime'])\n",
    "X_train, X_val, X_test, y_train, y_val, y_test = train_val_test_split(data_selection)\n",
    "del data_selection, X_test, y_test\n",
    "\n",
    "print(\"train score: \", log_loss_evaluation(model, X_train, y_train))\n",
    "print(\"validation score: \", log_loss_evaluation(model, X_val, y_val))"
   ]
  },
  {
   "cell_type": "code",
   "execution_count": 35,
   "id": "8f88f372",
   "metadata": {},
   "outputs": [
    {
     "name": "stdout",
     "output_type": "stream",
     "text": [
      "                             precision    recall  f1-score   support\n",
      "\n",
      "                      ARSON       0.00      0.00      0.00       303\n",
      "                    ASSAULT       0.18      0.15      0.16     15374\n",
      "                 BAD CHECKS       0.00      0.00      0.00        81\n",
      "                    BRIBERY       0.00      0.00      0.00        58\n",
      "                   BURGLARY       0.24      0.00      0.01      7351\n",
      "         DISORDERLY CONDUCT       0.13      0.00      0.01       863\n",
      "DRIVING UNDER THE INFLUENCE       0.00      0.00      0.00       454\n",
      "              DRUG/NARCOTIC       0.31      0.36      0.34     10794\n",
      "                DRUNKENNESS       0.00      0.00      0.00       856\n",
      "               EMBEZZLEMENT       0.00      0.00      0.00       233\n",
      "                  EXTORTION       0.00      0.00      0.00        51\n",
      "            FAMILY OFFENSES       0.00      0.00      0.00        98\n",
      "     FORGERY/COUNTERFEITING       0.00      0.00      0.00      2122\n",
      "                      FRAUD       1.00      0.00      0.00      3336\n",
      "                   GAMBLING       0.00      0.00      0.00        29\n",
      "                 KIDNAPPING       0.00      0.00      0.00       468\n",
      "              LARCENY/THEFT       0.27      0.81      0.40     34977\n",
      "                LIQUOR LAWS       0.00      0.00      0.00       381\n",
      "                  LOITERING       0.00      0.00      0.00       245\n",
      "             MISSING PERSON       0.61      0.21      0.31      5198\n",
      "               NON-CRIMINAL       0.27      0.07      0.11     18460\n",
      "             OTHER OFFENSES       0.28      0.33      0.30     25233\n",
      "    PORNOGRAPHY/OBSCENE MAT       0.00      0.00      0.00         5\n",
      "               PROSTITUTION       0.58      0.52      0.55      1497\n",
      "          RECOVERED VEHICLE       0.00      0.00      0.00       627\n",
      "                    ROBBERY       0.16      0.00      0.00      4600\n",
      "                    RUNAWAY       0.00      0.00      0.00       389\n",
      "            SECONDARY CODES       0.00      0.00      0.00      1997\n",
      "      SEX OFFENSES FORCIBLE       0.00      0.00      0.00       877\n",
      "  SEX OFFENSES NON FORCIBLE       0.00      0.00      0.00        30\n",
      "            STOLEN PROPERTY       0.00      0.00      0.00       908\n",
      "                    SUICIDE       0.00      0.00      0.00       102\n",
      "             SUSPICIOUS OCC       0.00      0.00      0.00      6282\n",
      "                       TREA       0.00      0.00      0.00         1\n",
      "                   TRESPASS       0.18      0.01      0.01      1465\n",
      "                  VANDALISM       0.39      0.00      0.00      8945\n",
      "              VEHICLE THEFT       0.25      0.16      0.20     10754\n",
      "                   WARRANTS       0.25      0.00      0.00      8441\n",
      "                WEAPON LAWS       0.00      0.00      0.00      1711\n",
      "\n",
      "                   accuracy                           0.27    175596\n",
      "                  macro avg       0.13      0.07      0.06    175596\n",
      "               weighted avg       0.26      0.27      0.20    175596\n",
      "\n"
     ]
    }
   ],
   "source": [
    "print(classification_report_results(model, X_val, y_val))"
   ]
  },
  {
   "cell_type": "markdown",
   "id": "d6bf2092",
   "metadata": {},
   "source": [
    "И с този сет от характеристики не се наблюдава някакво подобрение в алгоритъма - и той не генерализира добре (повечете minority класове не се отчетени).  \n",
    "Нека да видим и важността на feature-ите."
   ]
  },
  {
   "cell_type": "code",
   "execution_count": 36,
   "id": "48bcd9d8",
   "metadata": {},
   "outputs": [
    {
     "data": {
      "image/png": "[encoded data removed]",
      "text/plain": [
       "<Figure size 720x720 with 1 Axes>"
      ]
     },
     "metadata": {
      "needs_background": "light"
     },
     "output_type": "display_data"
    }
   ],
   "source": [
    "random_forest_features(model, X_val)"
   ]
  },
  {
   "cell_type": "code",
   "execution_count": 39,
   "id": "ede329fc",
   "metadata": {},
   "outputs": [
    {
     "data": {
      "text/html": [
       "<div>\n",
       "<style scoped>\n",
       "    .dataframe tbody tr th:only-of-type {\n",
       "        vertical-align: middle;\n",
       "    }\n",
       "\n",
       "    .dataframe tbody tr th {\n",
       "        vertical-align: top;\n",
       "    }\n",
       "\n",
       "    .dataframe thead th {\n",
       "        text-align: right;\n",
       "    }\n",
       "</style>\n",
       "<table border=\"1\" class=\"dataframe\">\n",
       "  <thead>\n",
       "    <tr style=\"text-align: right;\">\n",
       "      <th></th>\n",
       "      <th>rank_test_score</th>\n",
       "      <th>mean_test_score</th>\n",
       "      <th>params</th>\n",
       "    </tr>\n",
       "  </thead>\n",
       "  <tbody>\n",
       "    <tr>\n",
       "      <th>11</th>\n",
       "      <td>1</td>\n",
       "      <td>-2.426430</td>\n",
       "      <td>{'n_estimators': 30, 'min_samples_split': 100,...</td>\n",
       "    </tr>\n",
       "    <tr>\n",
       "      <th>18</th>\n",
       "      <td>2</td>\n",
       "      <td>-2.427523</td>\n",
       "      <td>{'n_estimators': 50, 'min_samples_split': 2, '...</td>\n",
       "    </tr>\n",
       "    <tr>\n",
       "      <th>13</th>\n",
       "      <td>3</td>\n",
       "      <td>-2.428121</td>\n",
       "      <td>{'n_estimators': 70, 'min_samples_split': 20, ...</td>\n",
       "    </tr>\n",
       "    <tr>\n",
       "      <th>6</th>\n",
       "      <td>4</td>\n",
       "      <td>-2.429476</td>\n",
       "      <td>{'n_estimators': 70, 'min_samples_split': 50, ...</td>\n",
       "    </tr>\n",
       "    <tr>\n",
       "      <th>5</th>\n",
       "      <td>5</td>\n",
       "      <td>-2.430516</td>\n",
       "      <td>{'n_estimators': 50, 'min_samples_split': 50, ...</td>\n",
       "    </tr>\n",
       "    <tr>\n",
       "      <th>9</th>\n",
       "      <td>6</td>\n",
       "      <td>-2.453919</td>\n",
       "      <td>{'n_estimators': 70, 'min_samples_split': 50, ...</td>\n",
       "    </tr>\n",
       "    <tr>\n",
       "      <th>19</th>\n",
       "      <td>7</td>\n",
       "      <td>-2.465951</td>\n",
       "      <td>{'n_estimators': 10, 'min_samples_split': 5, '...</td>\n",
       "    </tr>\n",
       "    <tr>\n",
       "      <th>12</th>\n",
       "      <td>8</td>\n",
       "      <td>-2.485144</td>\n",
       "      <td>{'n_estimators': 100, 'min_samples_split': 50,...</td>\n",
       "    </tr>\n",
       "    <tr>\n",
       "      <th>3</th>\n",
       "      <td>9</td>\n",
       "      <td>-2.485541</td>\n",
       "      <td>{'n_estimators': 100, 'min_samples_split': 20,...</td>\n",
       "    </tr>\n",
       "    <tr>\n",
       "      <th>14</th>\n",
       "      <td>10</td>\n",
       "      <td>-2.485719</td>\n",
       "      <td>{'n_estimators': 70, 'min_samples_split': 50, ...</td>\n",
       "    </tr>\n",
       "    <tr>\n",
       "      <th>4</th>\n",
       "      <td>11</td>\n",
       "      <td>-2.486494</td>\n",
       "      <td>{'n_estimators': 100, 'min_samples_split': 10,...</td>\n",
       "    </tr>\n",
       "    <tr>\n",
       "      <th>2</th>\n",
       "      <td>12</td>\n",
       "      <td>-2.486787</td>\n",
       "      <td>{'n_estimators': 70, 'min_samples_split': 2, '...</td>\n",
       "    </tr>\n",
       "    <tr>\n",
       "      <th>7</th>\n",
       "      <td>13</td>\n",
       "      <td>-2.520418</td>\n",
       "      <td>{'n_estimators': 30, 'min_samples_split': 100,...</td>\n",
       "    </tr>\n",
       "    <tr>\n",
       "      <th>16</th>\n",
       "      <td>14</td>\n",
       "      <td>-2.560874</td>\n",
       "      <td>{'n_estimators': 10, 'min_samples_split': 5, '...</td>\n",
       "    </tr>\n",
       "    <tr>\n",
       "      <th>10</th>\n",
       "      <td>15</td>\n",
       "      <td>-2.563660</td>\n",
       "      <td>{'n_estimators': 10, 'min_samples_split': 20, ...</td>\n",
       "    </tr>\n",
       "    <tr>\n",
       "      <th>1</th>\n",
       "      <td>16</td>\n",
       "      <td>-2.608588</td>\n",
       "      <td>{'n_estimators': 30, 'min_samples_split': 5, '...</td>\n",
       "    </tr>\n",
       "    <tr>\n",
       "      <th>8</th>\n",
       "      <td>17</td>\n",
       "      <td>-2.609727</td>\n",
       "      <td>{'n_estimators': 100, 'min_samples_split': 5, ...</td>\n",
       "    </tr>\n",
       "    <tr>\n",
       "      <th>0</th>\n",
       "      <td>17</td>\n",
       "      <td>-2.609727</td>\n",
       "      <td>{'n_estimators': 100, 'min_samples_split': 50,...</td>\n",
       "    </tr>\n",
       "    <tr>\n",
       "      <th>17</th>\n",
       "      <td>19</td>\n",
       "      <td>-2.612341</td>\n",
       "      <td>{'n_estimators': 10, 'min_samples_split': 20, ...</td>\n",
       "    </tr>\n",
       "    <tr>\n",
       "      <th>15</th>\n",
       "      <td>20</td>\n",
       "      <td>-2.733782</td>\n",
       "      <td>{'n_estimators': 10, 'min_samples_split': 50, ...</td>\n",
       "    </tr>\n",
       "  </tbody>\n",
       "</table>\n",
       "</div>"
      ],
      "text/plain": [
       "    rank_test_score  mean_test_score  \\\n",
       "11                1        -2.426430   \n",
       "18                2        -2.427523   \n",
       "13                3        -2.428121   \n",
       "6                 4        -2.429476   \n",
       "5                 5        -2.430516   \n",
       "9                 6        -2.453919   \n",
       "19                7        -2.465951   \n",
       "12                8        -2.485144   \n",
       "3                 9        -2.485541   \n",
       "14               10        -2.485719   \n",
       "4                11        -2.486494   \n",
       "2                12        -2.486787   \n",
       "7                13        -2.520418   \n",
       "16               14        -2.560874   \n",
       "10               15        -2.563660   \n",
       "1                16        -2.608588   \n",
       "8                17        -2.609727   \n",
       "0                17        -2.609727   \n",
       "17               19        -2.612341   \n",
       "15               20        -2.733782   \n",
       "\n",
       "                                               params  \n",
       "11  {'n_estimators': 30, 'min_samples_split': 100,...  \n",
       "18  {'n_estimators': 50, 'min_samples_split': 2, '...  \n",
       "13  {'n_estimators': 70, 'min_samples_split': 20, ...  \n",
       "6   {'n_estimators': 70, 'min_samples_split': 50, ...  \n",
       "5   {'n_estimators': 50, 'min_samples_split': 50, ...  \n",
       "9   {'n_estimators': 70, 'min_samples_split': 50, ...  \n",
       "19  {'n_estimators': 10, 'min_samples_split': 5, '...  \n",
       "12  {'n_estimators': 100, 'min_samples_split': 50,...  \n",
       "3   {'n_estimators': 100, 'min_samples_split': 20,...  \n",
       "14  {'n_estimators': 70, 'min_samples_split': 50, ...  \n",
       "4   {'n_estimators': 100, 'min_samples_split': 10,...  \n",
       "2   {'n_estimators': 70, 'min_samples_split': 2, '...  \n",
       "7   {'n_estimators': 30, 'min_samples_split': 100,...  \n",
       "16  {'n_estimators': 10, 'min_samples_split': 5, '...  \n",
       "10  {'n_estimators': 10, 'min_samples_split': 20, ...  \n",
       "1   {'n_estimators': 30, 'min_samples_split': 5, '...  \n",
       "8   {'n_estimators': 100, 'min_samples_split': 5, ...  \n",
       "0   {'n_estimators': 100, 'min_samples_split': 50,...  \n",
       "17  {'n_estimators': 10, 'min_samples_split': 20, ...  \n",
       "15  {'n_estimators': 10, 'min_samples_split': 50, ...  "
      ]
     },
     "execution_count": 39,
     "metadata": {},
     "output_type": "execute_result"
    }
   ],
   "source": [
    "param_grid = {\n",
    "    'n_estimators': [10, 30, 50, 70, 100],\n",
    "    'max_depth': [2, 4, 6, 8, 10, 12, 15, 20],\n",
    "    'min_samples_split': [2, 5, 10, 20, 50, 100],\n",
    "}\n",
    "\n",
    "# del X_val, y_val\n",
    "model = RandomForestClassifier(random_state=0)\n",
    "\n",
    "# Display the results\n",
    "results = randomized_search_results(param_grid, 20, model, X_train, y_train)\n",
    "results"
   ]
  },
  {
   "cell_type": "code",
   "execution_count": 41,
   "id": "c3ec018e",
   "metadata": {},
   "outputs": [
    {
     "name": "stdout",
     "output_type": "stream",
     "text": [
      "{'n_estimators': 30, 'min_samples_split': 100, 'max_depth': 15}\n",
      "{'n_estimators': 50, 'min_samples_split': 2, 'max_depth': 12}\n",
      "{'n_estimators': 70, 'min_samples_split': 20, 'max_depth': 12}\n",
      "{'n_estimators': 70, 'min_samples_split': 50, 'max_depth': 20}\n",
      "{'n_estimators': 50, 'min_samples_split': 50, 'max_depth': 12}\n",
      "{'n_estimators': 70, 'min_samples_split': 50, 'max_depth': 10}\n",
      "{'n_estimators': 10, 'min_samples_split': 5, 'max_depth': 10}\n",
      "{'n_estimators': 100, 'min_samples_split': 50, 'max_depth': 8}\n",
      "{'n_estimators': 100, 'min_samples_split': 20, 'max_depth': 8}\n",
      "{'n_estimators': 70, 'min_samples_split': 50, 'max_depth': 8}\n",
      "{'n_estimators': 100, 'min_samples_split': 10, 'max_depth': 8}\n",
      "{'n_estimators': 70, 'min_samples_split': 2, 'max_depth': 8}\n",
      "{'n_estimators': 30, 'min_samples_split': 100, 'max_depth': 6}\n",
      "{'n_estimators': 10, 'min_samples_split': 5, 'max_depth': 15}\n",
      "{'n_estimators': 10, 'min_samples_split': 20, 'max_depth': 4}\n",
      "{'n_estimators': 30, 'min_samples_split': 5, 'max_depth': 2}\n",
      "{'n_estimators': 100, 'min_samples_split': 5, 'max_depth': 2}\n",
      "{'n_estimators': 100, 'min_samples_split': 50, 'max_depth': 2}\n",
      "{'n_estimators': 10, 'min_samples_split': 20, 'max_depth': 2}\n",
      "{'n_estimators': 10, 'min_samples_split': 50, 'max_depth': 20}\n"
     ]
    }
   ],
   "source": [
    "for i in range(20):\n",
    "    print(results.iloc[i]['params'])"
   ]
  },
  {
   "cell_type": "code",
   "execution_count": null,
   "id": "efb1fcc4",
   "metadata": {},
   "outputs": [],
   "source": [
    "del results"
   ]
  },
  {
   "cell_type": "markdown",
   "id": "af315baf",
   "metadata": {},
   "source": [
    "Нека сменим малко параметрите за grid-a и да видим дали ще получим по-добри резултати."
   ]
  },
  {
   "cell_type": "code",
   "execution_count": 23,
   "id": "ed929c4d",
   "metadata": {},
   "outputs": [
    {
     "data": {
      "text/html": [
       "<div>\n",
       "<style scoped>\n",
       "    .dataframe tbody tr th:only-of-type {\n",
       "        vertical-align: middle;\n",
       "    }\n",
       "\n",
       "    .dataframe tbody tr th {\n",
       "        vertical-align: top;\n",
       "    }\n",
       "\n",
       "    .dataframe thead th {\n",
       "        text-align: right;\n",
       "    }\n",
       "</style>\n",
       "<table border=\"1\" class=\"dataframe\">\n",
       "  <thead>\n",
       "    <tr style=\"text-align: right;\">\n",
       "      <th></th>\n",
       "      <th>rank_test_score</th>\n",
       "      <th>mean_test_score</th>\n",
       "      <th>params</th>\n",
       "    </tr>\n",
       "  </thead>\n",
       "  <tbody>\n",
       "    <tr>\n",
       "      <th>18</th>\n",
       "      <td>1</td>\n",
       "      <td>-2.401734</td>\n",
       "      <td>{'n_estimators': 70, 'min_samples_split': 100,...</td>\n",
       "    </tr>\n",
       "    <tr>\n",
       "      <th>12</th>\n",
       "      <td>2</td>\n",
       "      <td>-2.416703</td>\n",
       "      <td>{'n_estimators': 50, 'min_samples_split': 5, '...</td>\n",
       "    </tr>\n",
       "    <tr>\n",
       "      <th>14</th>\n",
       "      <td>3</td>\n",
       "      <td>-2.417473</td>\n",
       "      <td>{'n_estimators': 50, 'min_samples_split': 20, ...</td>\n",
       "    </tr>\n",
       "    <tr>\n",
       "      <th>3</th>\n",
       "      <td>4</td>\n",
       "      <td>-2.417715</td>\n",
       "      <td>{'n_estimators': 50, 'min_samples_split': 10, ...</td>\n",
       "    </tr>\n",
       "    <tr>\n",
       "      <th>0</th>\n",
       "      <td>5</td>\n",
       "      <td>-2.427432</td>\n",
       "      <td>{'n_estimators': 30, 'min_samples_split': 20, ...</td>\n",
       "    </tr>\n",
       "    <tr>\n",
       "      <th>19</th>\n",
       "      <td>6</td>\n",
       "      <td>-2.443360</td>\n",
       "      <td>{'n_estimators': 50, 'min_samples_split': 2, '...</td>\n",
       "    </tr>\n",
       "    <tr>\n",
       "      <th>2</th>\n",
       "      <td>7</td>\n",
       "      <td>-2.443497</td>\n",
       "      <td>{'n_estimators': 50, 'min_samples_split': 20, ...</td>\n",
       "    </tr>\n",
       "    <tr>\n",
       "      <th>11</th>\n",
       "      <td>8</td>\n",
       "      <td>-2.447686</td>\n",
       "      <td>{'n_estimators': 30, 'min_samples_split': 10, ...</td>\n",
       "    </tr>\n",
       "    <tr>\n",
       "      <th>4</th>\n",
       "      <td>9</td>\n",
       "      <td>-2.476046</td>\n",
       "      <td>{'n_estimators': 70, 'min_samples_split': 2, '...</td>\n",
       "    </tr>\n",
       "    <tr>\n",
       "      <th>7</th>\n",
       "      <td>10</td>\n",
       "      <td>-2.476528</td>\n",
       "      <td>{'n_estimators': 70, 'min_samples_split': 20, ...</td>\n",
       "    </tr>\n",
       "    <tr>\n",
       "      <th>15</th>\n",
       "      <td>11</td>\n",
       "      <td>-2.477383</td>\n",
       "      <td>{'n_estimators': 50, 'min_samples_split': 20, ...</td>\n",
       "    </tr>\n",
       "    <tr>\n",
       "      <th>17</th>\n",
       "      <td>12</td>\n",
       "      <td>-2.477753</td>\n",
       "      <td>{'n_estimators': 30, 'min_samples_split': 100,...</td>\n",
       "    </tr>\n",
       "    <tr>\n",
       "      <th>8</th>\n",
       "      <td>13</td>\n",
       "      <td>-2.478861</td>\n",
       "      <td>{'n_estimators': 30, 'min_samples_split': 50, ...</td>\n",
       "    </tr>\n",
       "    <tr>\n",
       "      <th>10</th>\n",
       "      <td>14</td>\n",
       "      <td>-2.515188</td>\n",
       "      <td>{'n_estimators': 30, 'min_samples_split': 100,...</td>\n",
       "    </tr>\n",
       "    <tr>\n",
       "      <th>1</th>\n",
       "      <td>15</td>\n",
       "      <td>-2.555200</td>\n",
       "      <td>{'n_estimators': 50, 'min_samples_split': 2, '...</td>\n",
       "    </tr>\n",
       "    <tr>\n",
       "      <th>16</th>\n",
       "      <td>16</td>\n",
       "      <td>-2.556200</td>\n",
       "      <td>{'n_estimators': 30, 'min_samples_split': 20, ...</td>\n",
       "    </tr>\n",
       "    <tr>\n",
       "      <th>9</th>\n",
       "      <td>16</td>\n",
       "      <td>-2.556200</td>\n",
       "      <td>{'n_estimators': 30, 'min_samples_split': 2, '...</td>\n",
       "    </tr>\n",
       "    <tr>\n",
       "      <th>5</th>\n",
       "      <td>18</td>\n",
       "      <td>-2.604951</td>\n",
       "      <td>{'n_estimators': 30, 'min_samples_split': 50, ...</td>\n",
       "    </tr>\n",
       "    <tr>\n",
       "      <th>13</th>\n",
       "      <td>19</td>\n",
       "      <td>-2.626150</td>\n",
       "      <td>{'n_estimators': 50, 'min_samples_split': 10, ...</td>\n",
       "    </tr>\n",
       "    <tr>\n",
       "      <th>6</th>\n",
       "      <td>20</td>\n",
       "      <td>-2.764497</td>\n",
       "      <td>{'n_estimators': 30, 'min_samples_split': 10, ...</td>\n",
       "    </tr>\n",
       "  </tbody>\n",
       "</table>\n",
       "</div>"
      ],
      "text/plain": [
       "    rank_test_score  mean_test_score  \\\n",
       "18                1        -2.401734   \n",
       "12                2        -2.416703   \n",
       "14                3        -2.417473   \n",
       "3                 4        -2.417715   \n",
       "0                 5        -2.427432   \n",
       "19                6        -2.443360   \n",
       "2                 7        -2.443497   \n",
       "11                8        -2.447686   \n",
       "4                 9        -2.476046   \n",
       "7                10        -2.476528   \n",
       "15               11        -2.477383   \n",
       "17               12        -2.477753   \n",
       "8                13        -2.478861   \n",
       "10               14        -2.515188   \n",
       "1                15        -2.555200   \n",
       "16               16        -2.556200   \n",
       "9                16        -2.556200   \n",
       "5                18        -2.604951   \n",
       "13               19        -2.626150   \n",
       "6                20        -2.764497   \n",
       "\n",
       "                                               params  \n",
       "18  {'n_estimators': 70, 'min_samples_split': 100,...  \n",
       "12  {'n_estimators': 50, 'min_samples_split': 5, '...  \n",
       "14  {'n_estimators': 50, 'min_samples_split': 20, ...  \n",
       "3   {'n_estimators': 50, 'min_samples_split': 10, ...  \n",
       "0   {'n_estimators': 30, 'min_samples_split': 20, ...  \n",
       "19  {'n_estimators': 50, 'min_samples_split': 2, '...  \n",
       "2   {'n_estimators': 50, 'min_samples_split': 20, ...  \n",
       "11  {'n_estimators': 30, 'min_samples_split': 10, ...  \n",
       "4   {'n_estimators': 70, 'min_samples_split': 2, '...  \n",
       "7   {'n_estimators': 70, 'min_samples_split': 20, ...  \n",
       "15  {'n_estimators': 50, 'min_samples_split': 20, ...  \n",
       "17  {'n_estimators': 30, 'min_samples_split': 100,...  \n",
       "8   {'n_estimators': 30, 'min_samples_split': 50, ...  \n",
       "10  {'n_estimators': 30, 'min_samples_split': 100,...  \n",
       "1   {'n_estimators': 50, 'min_samples_split': 2, '...  \n",
       "16  {'n_estimators': 30, 'min_samples_split': 20, ...  \n",
       "9   {'n_estimators': 30, 'min_samples_split': 2, '...  \n",
       "5   {'n_estimators': 30, 'min_samples_split': 50, ...  \n",
       "13  {'n_estimators': 50, 'min_samples_split': 10, ...  \n",
       "6   {'n_estimators': 30, 'min_samples_split': 10, ...  "
      ]
     },
     "execution_count": 23,
     "metadata": {},
     "output_type": "execute_result"
    }
   ],
   "source": [
    "data_selection = data.drop(columns=['Hour', 'Minute', 'Month', 'Day', 'DayOfWeek', 'EpochTime'])\n",
    "X_train, X_val, X_test, y_train, y_val, y_test = train_val_test_split(data_selection)\n",
    "del data_selection, X_test, y_test, X_val, y_val\n",
    "\n",
    "param_grid = {\n",
    "    'n_estimators': [30, 50, 70],\n",
    "    'max_depth': [2, 4, 6, 8, 10, 12, 15, 20],\n",
    "    'min_samples_split': [2, 5, 10, 20, 50, 100],\n",
    "}\n",
    "\n",
    "model = RandomForestClassifier(random_state=0)\n",
    "\n",
    "# Display the results\n",
    "results = randomized_search_results(param_grid, 20, model, X_train, y_train)\n",
    "results"
   ]
  },
  {
   "cell_type": "code",
   "execution_count": 24,
   "id": "5f49cd69",
   "metadata": {},
   "outputs": [
    {
     "name": "stdout",
     "output_type": "stream",
     "text": [
      "{'n_estimators': 70, 'min_samples_split': 100, 'max_depth': 15}\n",
      "{'n_estimators': 50, 'min_samples_split': 5, 'max_depth': 12}\n",
      "{'n_estimators': 50, 'min_samples_split': 20, 'max_depth': 12}\n",
      "{'n_estimators': 50, 'min_samples_split': 10, 'max_depth': 12}\n",
      "{'n_estimators': 30, 'min_samples_split': 20, 'max_depth': 15}\n",
      "{'n_estimators': 50, 'min_samples_split': 2, 'max_depth': 10}\n",
      "{'n_estimators': 50, 'min_samples_split': 20, 'max_depth': 10}\n",
      "{'n_estimators': 30, 'min_samples_split': 10, 'max_depth': 10}\n",
      "{'n_estimators': 70, 'min_samples_split': 2, 'max_depth': 8}\n",
      "{'n_estimators': 70, 'min_samples_split': 20, 'max_depth': 8}\n",
      "{'n_estimators': 50, 'min_samples_split': 20, 'max_depth': 8}\n",
      "{'n_estimators': 30, 'min_samples_split': 100, 'max_depth': 8}\n",
      "{'n_estimators': 30, 'min_samples_split': 50, 'max_depth': 8}\n",
      "{'n_estimators': 30, 'min_samples_split': 100, 'max_depth': 6}\n",
      "{'n_estimators': 50, 'min_samples_split': 2, 'max_depth': 4}\n",
      "{'n_estimators': 30, 'min_samples_split': 20, 'max_depth': 4}\n",
      "{'n_estimators': 30, 'min_samples_split': 2, 'max_depth': 4}\n",
      "{'n_estimators': 30, 'min_samples_split': 50, 'max_depth': 2}\n",
      "{'n_estimators': 50, 'min_samples_split': 10, 'max_depth': 20}\n",
      "{'n_estimators': 30, 'min_samples_split': 10, 'max_depth': 20}\n"
     ]
    }
   ],
   "source": [
    "for i in range(20):\n",
    "    print(results.iloc[i]['params'])"
   ]
  },
  {
   "cell_type": "code",
   "execution_count": 25,
   "id": "e5d96a03",
   "metadata": {},
   "outputs": [],
   "source": [
    "del results"
   ]
  },
  {
   "cell_type": "markdown",
   "id": "d4f2fd32",
   "metadata": {},
   "source": [
    "Получават се малко по-добри резултати, затова ще тренираме модел с тези параметри {'n_estimators': 70, 'min_samples_split': 100, 'max_depth': 15}"
   ]
  },
  {
   "cell_type": "code",
   "execution_count": 26,
   "id": "407b27e5",
   "metadata": {},
   "outputs": [
    {
     "data": {
      "text/plain": [
       "RandomForestClassifier(max_depth=15, min_samples_split=100, n_estimators=70,\n",
       "                       random_state=0)"
      ]
     },
     "execution_count": 26,
     "metadata": {},
     "output_type": "execute_result"
    }
   ],
   "source": [
    "model = RandomForestClassifier(random_state=0, max_depth=15, n_estimators=70, min_samples_split=100)\n",
    "model.fit(X_train, y_train)"
   ]
  },
  {
   "cell_type": "code",
   "execution_count": 28,
   "id": "0d17c4e4",
   "metadata": {},
   "outputs": [
    {
     "name": "stdout",
     "output_type": "stream",
     "text": [
      "train score:  2.2335429595227616\n",
      "validation score:  2.3892913788994066\n"
     ]
    }
   ],
   "source": [
    "data_selection = data.drop(columns=['Hour', 'Minute', 'Month', 'Day', 'DayOfWeek', 'EpochTime'])\n",
    "X_train, X_val, X_test, y_train, y_val, y_test = train_val_test_split(data_selection)\n",
    "del data_selection, X_test, y_test\n",
    "\n",
    "print(\"train score: \", log_loss_evaluation(model, X_train, y_train))\n",
    "print(\"validation score: \", log_loss_evaluation(model, X_val, y_val))"
   ]
  },
  {
   "cell_type": "code",
   "execution_count": 29,
   "id": "bc05cdb0",
   "metadata": {},
   "outputs": [
    {
     "name": "stdout",
     "output_type": "stream",
     "text": [
      "                             precision    recall  f1-score   support\n",
      "\n",
      "                      ARSON       0.00      0.00      0.00       303\n",
      "                    ASSAULT       0.18      0.17      0.18     15374\n",
      "                 BAD CHECKS       0.00      0.00      0.00        81\n",
      "                    BRIBERY       0.00      0.00      0.00        58\n",
      "                   BURGLARY       0.22      0.02      0.04      7351\n",
      "         DISORDERLY CONDUCT       0.25      0.01      0.02       863\n",
      "DRIVING UNDER THE INFLUENCE       0.00      0.00      0.00       454\n",
      "              DRUG/NARCOTIC       0.32      0.41      0.36     10794\n",
      "                DRUNKENNESS       0.00      0.00      0.00       856\n",
      "               EMBEZZLEMENT       0.00      0.00      0.00       233\n",
      "                  EXTORTION       0.00      0.00      0.00        51\n",
      "            FAMILY OFFENSES       0.00      0.00      0.00        98\n",
      "     FORGERY/COUNTERFEITING       0.00      0.00      0.00      2122\n",
      "                      FRAUD       0.25      0.00      0.00      3336\n",
      "                   GAMBLING       0.00      0.00      0.00        29\n",
      "                 KIDNAPPING       0.00      0.00      0.00       468\n",
      "              LARCENY/THEFT       0.29      0.78      0.42     34977\n",
      "                LIQUOR LAWS       0.00      0.00      0.00       381\n",
      "                  LOITERING       0.00      0.00      0.00       245\n",
      "             MISSING PERSON       0.54      0.24      0.33      5198\n",
      "               NON-CRIMINAL       0.25      0.12      0.16     18460\n",
      "             OTHER OFFENSES       0.29      0.34      0.31     25233\n",
      "    PORNOGRAPHY/OBSCENE MAT       0.00      0.00      0.00         5\n",
      "               PROSTITUTION       0.53      0.64      0.58      1497\n",
      "          RECOVERED VEHICLE       0.00      0.00      0.00       627\n",
      "                    ROBBERY       0.00      0.00      0.00      4600\n",
      "                    RUNAWAY       0.74      0.04      0.08       389\n",
      "            SECONDARY CODES       0.00      0.00      0.00      1997\n",
      "      SEX OFFENSES FORCIBLE       0.00      0.00      0.00       877\n",
      "  SEX OFFENSES NON FORCIBLE       0.00      0.00      0.00        30\n",
      "            STOLEN PROPERTY       0.00      0.00      0.00       908\n",
      "                    SUICIDE       0.00      0.00      0.00       102\n",
      "             SUSPICIOUS OCC       0.00      0.00      0.00      6282\n",
      "                       TREA       0.00      0.00      0.00         1\n",
      "                   TRESPASS       0.24      0.01      0.01      1465\n",
      "                  VANDALISM       0.30      0.00      0.00      8945\n",
      "              VEHICLE THEFT       0.25      0.19      0.22     10754\n",
      "                   WARRANTS       0.44      0.00      0.00      8441\n",
      "                WEAPON LAWS       0.00      0.00      0.00      1711\n",
      "\n",
      "                   accuracy                           0.28    175596\n",
      "                  macro avg       0.13      0.08      0.07    175596\n",
      "               weighted avg       0.25      0.28      0.21    175596\n",
      "\n"
     ]
    }
   ],
   "source": [
    "print(classification_report_results(model, X_val, y_val))"
   ]
  },
  {
   "cell_type": "code",
   "execution_count": 30,
   "id": "84ceb084",
   "metadata": {},
   "outputs": [
    {
     "data": {
      "image/png": "[encoded data removed]",
      "text/plain": [
       "<Figure size 720x720 with 1 Axes>"
      ]
     },
     "metadata": {
      "needs_background": "light"
     },
     "output_type": "display_data"
    }
   ],
   "source": [
    "random_forest_features(model, X_val)"
   ]
  },
  {
   "cell_type": "markdown",
   "id": "be08f71e",
   "metadata": {},
   "source": [
    "И с този модел не наблюдаваме подобрение в генерализирането. Като цяло от важността на feature-ите се вижда, че от най-голямо значение са по-скоро пространствените характеристики отколкото времевите."
   ]
  },
  {
   "cell_type": "markdown",
   "id": "3dfe56a1",
   "metadata": {},
   "source": [
    "На dataframe-a, показващ резултатите от прилагането на RandomForest върху различните set-ове от feature-и с различни параметри, където:\n",
    "- Set1 = {DayOfWeek, PdDistrict, X, Y, Year, Month, Day, Hour, Minute, EpochTime, IsOnBlock, Season, HourRange, IsDuringBusinessHours, IsWeekend, IsHoliday}\n",
    "- Set2 = {DayOfWeek, PdDistrict, X, Y, Year, Month, Day, Hour, Minute, EpochTime, IsOnBlock}\n",
    "- Set3 = {DayOfWeek, PdDistrict, X, Y, Year, IsOnBlock, Season, HourRange, IsDuringBusinessHours, IsWeekend, IsHoliday}\n",
    "- Set4 = {PdDistrict, X, Y, Year, IsOnBlock, Season, HourRange, IsDuringBusinessHours, IsWeekend, IsHoliday}  \n",
    "   \n",
    "се забелязва, че няма огромна разлика алгоритъма как се справя с различните сетове от характеристики. За да проверим, че алгоритъма наистина се справя така, а параметрите не са настроени да overfit-ват валидационното множество, ще го тестваме върху тестовото множество за два от сетовете - Set2 и Set4."
   ]
  },
  {
   "cell_type": "code",
   "execution_count": 41,
   "id": "187f4a56",
   "metadata": {},
   "outputs": [
    {
     "data": {
      "text/html": [
       "<div>\n",
       "<style scoped>\n",
       "    .dataframe tbody tr th:only-of-type {\n",
       "        vertical-align: middle;\n",
       "    }\n",
       "\n",
       "    .dataframe tbody tr th {\n",
       "        vertical-align: top;\n",
       "    }\n",
       "\n",
       "    .dataframe thead th {\n",
       "        text-align: right;\n",
       "    }\n",
       "</style>\n",
       "<table border=\"1\" class=\"dataframe\">\n",
       "  <thead>\n",
       "    <tr style=\"text-align: right;\">\n",
       "      <th></th>\n",
       "      <th>LogLoss</th>\n",
       "      <th>WA Precision</th>\n",
       "      <th>WA Recall</th>\n",
       "      <th>WA F-score</th>\n",
       "    </tr>\n",
       "  </thead>\n",
       "  <tbody>\n",
       "    <tr>\n",
       "      <th>Set1</th>\n",
       "      <td>2.397</td>\n",
       "      <td>0.24</td>\n",
       "      <td>0.28</td>\n",
       "      <td>0.20</td>\n",
       "    </tr>\n",
       "    <tr>\n",
       "      <th>Set2</th>\n",
       "      <td>2.345</td>\n",
       "      <td>0.25</td>\n",
       "      <td>0.29</td>\n",
       "      <td>0.22</td>\n",
       "    </tr>\n",
       "    <tr>\n",
       "      <th>Set3</th>\n",
       "      <td>2.427</td>\n",
       "      <td>0.26</td>\n",
       "      <td>0.27</td>\n",
       "      <td>0.20</td>\n",
       "    </tr>\n",
       "    <tr>\n",
       "      <th>Set4</th>\n",
       "      <td>2.389</td>\n",
       "      <td>0.25</td>\n",
       "      <td>0.28</td>\n",
       "      <td>0.21</td>\n",
       "    </tr>\n",
       "  </tbody>\n",
       "</table>\n",
       "</div>"
      ],
      "text/plain": [
       "     LogLoss WA Precision WA Recall WA F-score\n",
       "Set1   2.397         0.24      0.28       0.20\n",
       "Set2   2.345         0.25      0.29       0.22\n",
       "Set3   2.427         0.26      0.27       0.20\n",
       "Set4   2.389         0.25      0.28       0.21"
      ]
     },
     "execution_count": 41,
     "metadata": {},
     "output_type": "execute_result"
    }
   ],
   "source": [
    "dict = {'LogLoss': ['2.397', '2.345', '2.427', '2.389'], 'WA Precision': ['0.24', '0.25', '0.26', '0.25'], 'WA Recall': ['0.28', '0.29', '0.27', '0.28'], 'WA F-score': ['0.20', '0.22', '0.20', '0.21']}\n",
    "results = pd.DataFrame(dict, index=['Set1', 'Set2', 'Set3', 'Set4'])\n",
    "results"
   ]
  },
  {
   "cell_type": "code",
   "execution_count": 43,
   "id": "aa5ed609",
   "metadata": {},
   "outputs": [
    {
     "data": {
      "text/plain": [
       "RandomForestClassifier(max_depth=15, min_samples_split=100, n_estimators=70,\n",
       "                       random_state=0)"
      ]
     },
     "execution_count": 43,
     "metadata": {},
     "output_type": "execute_result"
    }
   ],
   "source": [
    "# Set 4 on test set\n",
    "model = RandomForestClassifier(random_state=0, max_depth=15, n_estimators=70, min_samples_split=100)\n",
    "model.fit(X_train, y_train)"
   ]
  },
  {
   "cell_type": "code",
   "execution_count": 45,
   "id": "3dd1e098",
   "metadata": {},
   "outputs": [
    {
     "name": "stdout",
     "output_type": "stream",
     "text": [
      "train score:  2.2335429595227616\n",
      "validation score:  2.3885212340676585\n"
     ]
    }
   ],
   "source": [
    "data_selection = data.drop(columns=['Hour', 'Minute', 'Month', 'Day', 'DayOfWeek', 'EpochTime'])\n",
    "X_train, X_val, X_test, y_train, y_val, y_test = train_val_test_split(data_selection)\n",
    "del X_val, y_val\n",
    "\n",
    "print(\"train score: \", log_loss_evaluation(model, X_train, y_train))\n",
    "print(\"validation score: \", log_loss_evaluation(model, X_test, y_test))"
   ]
  },
  {
   "cell_type": "markdown",
   "id": "824de972",
   "metadata": {},
   "source": [
    "Set 4 не се е пренагадил към параметрите - log loss-a върху тест сета е същия като този при validation сета."
   ]
  },
  {
   "cell_type": "code",
   "execution_count": 46,
   "id": "9ef5ba84",
   "metadata": {},
   "outputs": [
    {
     "data": {
      "text/plain": [
       "RandomForestClassifier(max_depth=12, n_estimators=70, random_state=0)"
      ]
     },
     "execution_count": 46,
     "metadata": {},
     "output_type": "execute_result"
    }
   ],
   "source": [
    "# Set 2 on test set\n",
    "data_selection = data.drop(columns=['Season', 'HourRange', 'IsDuringBusinessHours', 'IsWeekend', 'IsHoliday'])\n",
    "X_train, X_val, X_test, y_train, y_val, y_test = train_val_test_split(data_selection)\n",
    "del X_val, y_val\n",
    "\n",
    "model = RandomForestClassifier(random_state=0, max_depth=12, n_estimators=70, min_samples_split=2)\n",
    "model.fit(X_train, y_train)"
   ]
  },
  {
   "cell_type": "code",
   "execution_count": 47,
   "id": "0ed013df",
   "metadata": {},
   "outputs": [
    {
     "name": "stdout",
     "output_type": "stream",
     "text": [
      "train score:  2.2163012923197973\n",
      "test score:  2.3470367563042633\n"
     ]
    }
   ],
   "source": [
    "print(\"train score: \", log_loss_evaluation(model, X_train, y_train))\n",
    "print(\"test score: \", log_loss_evaluation(model, X_test, y_test))"
   ]
  },
  {
   "cell_type": "markdown",
   "id": "abedbd29",
   "metadata": {},
   "source": [
    "Set 2 също не се е пренагадил към параметрите - log loss-a върху тест сета е същия като този при validation сета."
   ]
  },
  {
   "cell_type": "markdown",
   "id": "76073aca",
   "metadata": {},
   "source": [
    "#### Кратко описание на алгоритмите, които ще използвате"
   ]
  },
  {
   "cell_type": "markdown",
   "id": "9d12773a",
   "metadata": {},
   "source": [
    "- Логистична регресия  \n",
    "Сравнително прост алгоритъм, който ще използвам като стартиращ базов модел, за да се определи дали има линейна зависимост между характеристиките на dataset-а.\n",
    "  \n",
    "- kNN  \n",
    "kNN е прост алгоритъм за пространствен анализ. Той класифицира точките от данни въз основа на класа на мнозинството от техните най-близки съседи. Предвид географския характер на данните за престъпността (дължина, ширина, адрес, участък), kNN може да бъде ефективен за прогнозиране на категории престъпления въз основа на характеристиките на близките инциденти.\n",
    "   \n",
    "- Random Forest  \n",
    "Random Forest е енсенбъл метод за обучение. Той се справя се с нелинейността и е по-малко склонен към overfitting от decision tree алгоритъм. Също така, имайки предвид, че таргет променливата е доста небалансирана в обучаващото множество, този алгоритъм може би ще се справи по-добре при предсказването."
   ]
  },
  {
   "cell_type": "markdown",
   "id": "a2c64b22",
   "metadata": {},
   "source": [
    "#### Библиотеки и технологии"
   ]
  },
  {
   "cell_type": "markdown",
   "id": "c038adbc",
   "metadata": {},
   "source": [
    "- Python\n",
    "- Jupyter\n",
    "- pandas\n",
    "- scikit-learn\n",
    "- matplotlib\n",
    "- seaborn"
   ]
  }
 ],
 "metadata": {
  "kernelspec": {
   "display_name": "Python 3",
   "language": "python",
   "name": "python3"
  },
  "language_info": {
   "codemirror_mode": {
    "name": "ipython",
    "version": 3
   },
   "file_extension": ".py",
   "mimetype": "text/x-python",
   "name": "python",
   "nbconvert_exporter": "python",
   "pygments_lexer": "ipython3",
   "version": "3.6.13"
  }
 },
 "nbformat": 4,
 "nbformat_minor": 5
}
